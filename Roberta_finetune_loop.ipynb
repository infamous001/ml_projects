{
  "nbformat": 4,
  "nbformat_minor": 0,
  "metadata": {
    "colab": {
      "provenance": [],
      "gpuType": "T4"
    },
    "kernelspec": {
      "name": "python3",
      "display_name": "Python 3"
    },
    "language_info": {
      "name": "python"
    },
    "accelerator": "GPU",
    "widgets": {
      "application/vnd.jupyter.widget-state+json": {
        "cddf61a77a6d4d2fb56c298bb45b29f9": {
          "model_module": "@jupyter-widgets/controls",
          "model_name": "HBoxModel",
          "model_module_version": "1.5.0",
          "state": {
            "_dom_classes": [],
            "_model_module": "@jupyter-widgets/controls",
            "_model_module_version": "1.5.0",
            "_model_name": "HBoxModel",
            "_view_count": null,
            "_view_module": "@jupyter-widgets/controls",
            "_view_module_version": "1.5.0",
            "_view_name": "HBoxView",
            "box_style": "",
            "children": [
              "IPY_MODEL_5337142a8b494ca0800c9f328a4116f7",
              "IPY_MODEL_01638be7172f4523a199b4702609fe1f",
              "IPY_MODEL_513de0e4659f4462a7eabd6aa2ca6ef0"
            ],
            "layout": "IPY_MODEL_d21ec4f9803f4f9eae3a64067dbc718f"
          }
        },
        "5337142a8b494ca0800c9f328a4116f7": {
          "model_module": "@jupyter-widgets/controls",
          "model_name": "HTMLModel",
          "model_module_version": "1.5.0",
          "state": {
            "_dom_classes": [],
            "_model_module": "@jupyter-widgets/controls",
            "_model_module_version": "1.5.0",
            "_model_name": "HTMLModel",
            "_view_count": null,
            "_view_module": "@jupyter-widgets/controls",
            "_view_module_version": "1.5.0",
            "_view_name": "HTMLView",
            "description": "",
            "description_tooltip": null,
            "layout": "IPY_MODEL_f85b88499ea74e69a634f08844324475",
            "placeholder": "​",
            "style": "IPY_MODEL_c9bdfc9455cf48bea3e80e6e2dabfd60",
            "value": "Map: 100%"
          }
        },
        "01638be7172f4523a199b4702609fe1f": {
          "model_module": "@jupyter-widgets/controls",
          "model_name": "FloatProgressModel",
          "model_module_version": "1.5.0",
          "state": {
            "_dom_classes": [],
            "_model_module": "@jupyter-widgets/controls",
            "_model_module_version": "1.5.0",
            "_model_name": "FloatProgressModel",
            "_view_count": null,
            "_view_module": "@jupyter-widgets/controls",
            "_view_module_version": "1.5.0",
            "_view_name": "ProgressView",
            "bar_style": "success",
            "description": "",
            "description_tooltip": null,
            "layout": "IPY_MODEL_9400f9d137a648a3a5b0385e7e1d1cde",
            "max": 4000,
            "min": 0,
            "orientation": "horizontal",
            "style": "IPY_MODEL_209b35e64ba643b19d86b7db73ff53f6",
            "value": 4000
          }
        },
        "513de0e4659f4462a7eabd6aa2ca6ef0": {
          "model_module": "@jupyter-widgets/controls",
          "model_name": "HTMLModel",
          "model_module_version": "1.5.0",
          "state": {
            "_dom_classes": [],
            "_model_module": "@jupyter-widgets/controls",
            "_model_module_version": "1.5.0",
            "_model_name": "HTMLModel",
            "_view_count": null,
            "_view_module": "@jupyter-widgets/controls",
            "_view_module_version": "1.5.0",
            "_view_name": "HTMLView",
            "description": "",
            "description_tooltip": null,
            "layout": "IPY_MODEL_a371ca638e1148a384b810d75d3d26af",
            "placeholder": "​",
            "style": "IPY_MODEL_63040cb3d2b643c3b599497d0e30baed",
            "value": " 4000/4000 [00:13&lt;00:00, 361.65 examples/s]"
          }
        },
        "d21ec4f9803f4f9eae3a64067dbc718f": {
          "model_module": "@jupyter-widgets/base",
          "model_name": "LayoutModel",
          "model_module_version": "1.2.0",
          "state": {
            "_model_module": "@jupyter-widgets/base",
            "_model_module_version": "1.2.0",
            "_model_name": "LayoutModel",
            "_view_count": null,
            "_view_module": "@jupyter-widgets/base",
            "_view_module_version": "1.2.0",
            "_view_name": "LayoutView",
            "align_content": null,
            "align_items": null,
            "align_self": null,
            "border": null,
            "bottom": null,
            "display": null,
            "flex": null,
            "flex_flow": null,
            "grid_area": null,
            "grid_auto_columns": null,
            "grid_auto_flow": null,
            "grid_auto_rows": null,
            "grid_column": null,
            "grid_gap": null,
            "grid_row": null,
            "grid_template_areas": null,
            "grid_template_columns": null,
            "grid_template_rows": null,
            "height": null,
            "justify_content": null,
            "justify_items": null,
            "left": null,
            "margin": null,
            "max_height": null,
            "max_width": null,
            "min_height": null,
            "min_width": null,
            "object_fit": null,
            "object_position": null,
            "order": null,
            "overflow": null,
            "overflow_x": null,
            "overflow_y": null,
            "padding": null,
            "right": null,
            "top": null,
            "visibility": null,
            "width": null
          }
        },
        "f85b88499ea74e69a634f08844324475": {
          "model_module": "@jupyter-widgets/base",
          "model_name": "LayoutModel",
          "model_module_version": "1.2.0",
          "state": {
            "_model_module": "@jupyter-widgets/base",
            "_model_module_version": "1.2.0",
            "_model_name": "LayoutModel",
            "_view_count": null,
            "_view_module": "@jupyter-widgets/base",
            "_view_module_version": "1.2.0",
            "_view_name": "LayoutView",
            "align_content": null,
            "align_items": null,
            "align_self": null,
            "border": null,
            "bottom": null,
            "display": null,
            "flex": null,
            "flex_flow": null,
            "grid_area": null,
            "grid_auto_columns": null,
            "grid_auto_flow": null,
            "grid_auto_rows": null,
            "grid_column": null,
            "grid_gap": null,
            "grid_row": null,
            "grid_template_areas": null,
            "grid_template_columns": null,
            "grid_template_rows": null,
            "height": null,
            "justify_content": null,
            "justify_items": null,
            "left": null,
            "margin": null,
            "max_height": null,
            "max_width": null,
            "min_height": null,
            "min_width": null,
            "object_fit": null,
            "object_position": null,
            "order": null,
            "overflow": null,
            "overflow_x": null,
            "overflow_y": null,
            "padding": null,
            "right": null,
            "top": null,
            "visibility": null,
            "width": null
          }
        },
        "c9bdfc9455cf48bea3e80e6e2dabfd60": {
          "model_module": "@jupyter-widgets/controls",
          "model_name": "DescriptionStyleModel",
          "model_module_version": "1.5.0",
          "state": {
            "_model_module": "@jupyter-widgets/controls",
            "_model_module_version": "1.5.0",
            "_model_name": "DescriptionStyleModel",
            "_view_count": null,
            "_view_module": "@jupyter-widgets/base",
            "_view_module_version": "1.2.0",
            "_view_name": "StyleView",
            "description_width": ""
          }
        },
        "9400f9d137a648a3a5b0385e7e1d1cde": {
          "model_module": "@jupyter-widgets/base",
          "model_name": "LayoutModel",
          "model_module_version": "1.2.0",
          "state": {
            "_model_module": "@jupyter-widgets/base",
            "_model_module_version": "1.2.0",
            "_model_name": "LayoutModel",
            "_view_count": null,
            "_view_module": "@jupyter-widgets/base",
            "_view_module_version": "1.2.0",
            "_view_name": "LayoutView",
            "align_content": null,
            "align_items": null,
            "align_self": null,
            "border": null,
            "bottom": null,
            "display": null,
            "flex": null,
            "flex_flow": null,
            "grid_area": null,
            "grid_auto_columns": null,
            "grid_auto_flow": null,
            "grid_auto_rows": null,
            "grid_column": null,
            "grid_gap": null,
            "grid_row": null,
            "grid_template_areas": null,
            "grid_template_columns": null,
            "grid_template_rows": null,
            "height": null,
            "justify_content": null,
            "justify_items": null,
            "left": null,
            "margin": null,
            "max_height": null,
            "max_width": null,
            "min_height": null,
            "min_width": null,
            "object_fit": null,
            "object_position": null,
            "order": null,
            "overflow": null,
            "overflow_x": null,
            "overflow_y": null,
            "padding": null,
            "right": null,
            "top": null,
            "visibility": null,
            "width": null
          }
        },
        "209b35e64ba643b19d86b7db73ff53f6": {
          "model_module": "@jupyter-widgets/controls",
          "model_name": "ProgressStyleModel",
          "model_module_version": "1.5.0",
          "state": {
            "_model_module": "@jupyter-widgets/controls",
            "_model_module_version": "1.5.0",
            "_model_name": "ProgressStyleModel",
            "_view_count": null,
            "_view_module": "@jupyter-widgets/base",
            "_view_module_version": "1.2.0",
            "_view_name": "StyleView",
            "bar_color": null,
            "description_width": ""
          }
        },
        "a371ca638e1148a384b810d75d3d26af": {
          "model_module": "@jupyter-widgets/base",
          "model_name": "LayoutModel",
          "model_module_version": "1.2.0",
          "state": {
            "_model_module": "@jupyter-widgets/base",
            "_model_module_version": "1.2.0",
            "_model_name": "LayoutModel",
            "_view_count": null,
            "_view_module": "@jupyter-widgets/base",
            "_view_module_version": "1.2.0",
            "_view_name": "LayoutView",
            "align_content": null,
            "align_items": null,
            "align_self": null,
            "border": null,
            "bottom": null,
            "display": null,
            "flex": null,
            "flex_flow": null,
            "grid_area": null,
            "grid_auto_columns": null,
            "grid_auto_flow": null,
            "grid_auto_rows": null,
            "grid_column": null,
            "grid_gap": null,
            "grid_row": null,
            "grid_template_areas": null,
            "grid_template_columns": null,
            "grid_template_rows": null,
            "height": null,
            "justify_content": null,
            "justify_items": null,
            "left": null,
            "margin": null,
            "max_height": null,
            "max_width": null,
            "min_height": null,
            "min_width": null,
            "object_fit": null,
            "object_position": null,
            "order": null,
            "overflow": null,
            "overflow_x": null,
            "overflow_y": null,
            "padding": null,
            "right": null,
            "top": null,
            "visibility": null,
            "width": null
          }
        },
        "63040cb3d2b643c3b599497d0e30baed": {
          "model_module": "@jupyter-widgets/controls",
          "model_name": "DescriptionStyleModel",
          "model_module_version": "1.5.0",
          "state": {
            "_model_module": "@jupyter-widgets/controls",
            "_model_module_version": "1.5.0",
            "_model_name": "DescriptionStyleModel",
            "_view_count": null,
            "_view_module": "@jupyter-widgets/base",
            "_view_module_version": "1.2.0",
            "_view_name": "StyleView",
            "description_width": ""
          }
        },
        "da433cf54dac4aa6bdf717d8bebc8e6a": {
          "model_module": "@jupyter-widgets/controls",
          "model_name": "HBoxModel",
          "model_module_version": "1.5.0",
          "state": {
            "_dom_classes": [],
            "_model_module": "@jupyter-widgets/controls",
            "_model_module_version": "1.5.0",
            "_model_name": "HBoxModel",
            "_view_count": null,
            "_view_module": "@jupyter-widgets/controls",
            "_view_module_version": "1.5.0",
            "_view_name": "HBoxView",
            "box_style": "",
            "children": [
              "IPY_MODEL_0af661e7f37a47339f62ad4f87eda9a0",
              "IPY_MODEL_26a7c8ab54a346979701faa1643453fa",
              "IPY_MODEL_7ef1b5ea8ed64b78b6b4144b685a176f"
            ],
            "layout": "IPY_MODEL_c53182ffdf614d5fa2828a257d759cba"
          }
        },
        "0af661e7f37a47339f62ad4f87eda9a0": {
          "model_module": "@jupyter-widgets/controls",
          "model_name": "HTMLModel",
          "model_module_version": "1.5.0",
          "state": {
            "_dom_classes": [],
            "_model_module": "@jupyter-widgets/controls",
            "_model_module_version": "1.5.0",
            "_model_name": "HTMLModel",
            "_view_count": null,
            "_view_module": "@jupyter-widgets/controls",
            "_view_module_version": "1.5.0",
            "_view_name": "HTMLView",
            "description": "",
            "description_tooltip": null,
            "layout": "IPY_MODEL_8a5f37c0a92a42869329fabcb8257943",
            "placeholder": "​",
            "style": "IPY_MODEL_aebc98f856074109862c2ff955edc73c",
            "value": "Map: 100%"
          }
        },
        "26a7c8ab54a346979701faa1643453fa": {
          "model_module": "@jupyter-widgets/controls",
          "model_name": "FloatProgressModel",
          "model_module_version": "1.5.0",
          "state": {
            "_dom_classes": [],
            "_model_module": "@jupyter-widgets/controls",
            "_model_module_version": "1.5.0",
            "_model_name": "FloatProgressModel",
            "_view_count": null,
            "_view_module": "@jupyter-widgets/controls",
            "_view_module_version": "1.5.0",
            "_view_name": "ProgressView",
            "bar_style": "success",
            "description": "",
            "description_tooltip": null,
            "layout": "IPY_MODEL_65383ec2334d4b8cbb19b4c8fcde91a7",
            "max": 500,
            "min": 0,
            "orientation": "horizontal",
            "style": "IPY_MODEL_a3331d97e7664e7691483d1c5006040d",
            "value": 500
          }
        },
        "7ef1b5ea8ed64b78b6b4144b685a176f": {
          "model_module": "@jupyter-widgets/controls",
          "model_name": "HTMLModel",
          "model_module_version": "1.5.0",
          "state": {
            "_dom_classes": [],
            "_model_module": "@jupyter-widgets/controls",
            "_model_module_version": "1.5.0",
            "_model_name": "HTMLModel",
            "_view_count": null,
            "_view_module": "@jupyter-widgets/controls",
            "_view_module_version": "1.5.0",
            "_view_name": "HTMLView",
            "description": "",
            "description_tooltip": null,
            "layout": "IPY_MODEL_0b1b795692f94f229f69dc8fe90774ab",
            "placeholder": "​",
            "style": "IPY_MODEL_9d4e4f14d88546acab47f0028254b51e",
            "value": " 500/500 [00:01&lt;00:00, 449.41 examples/s]"
          }
        },
        "c53182ffdf614d5fa2828a257d759cba": {
          "model_module": "@jupyter-widgets/base",
          "model_name": "LayoutModel",
          "model_module_version": "1.2.0",
          "state": {
            "_model_module": "@jupyter-widgets/base",
            "_model_module_version": "1.2.0",
            "_model_name": "LayoutModel",
            "_view_count": null,
            "_view_module": "@jupyter-widgets/base",
            "_view_module_version": "1.2.0",
            "_view_name": "LayoutView",
            "align_content": null,
            "align_items": null,
            "align_self": null,
            "border": null,
            "bottom": null,
            "display": null,
            "flex": null,
            "flex_flow": null,
            "grid_area": null,
            "grid_auto_columns": null,
            "grid_auto_flow": null,
            "grid_auto_rows": null,
            "grid_column": null,
            "grid_gap": null,
            "grid_row": null,
            "grid_template_areas": null,
            "grid_template_columns": null,
            "grid_template_rows": null,
            "height": null,
            "justify_content": null,
            "justify_items": null,
            "left": null,
            "margin": null,
            "max_height": null,
            "max_width": null,
            "min_height": null,
            "min_width": null,
            "object_fit": null,
            "object_position": null,
            "order": null,
            "overflow": null,
            "overflow_x": null,
            "overflow_y": null,
            "padding": null,
            "right": null,
            "top": null,
            "visibility": null,
            "width": null
          }
        },
        "8a5f37c0a92a42869329fabcb8257943": {
          "model_module": "@jupyter-widgets/base",
          "model_name": "LayoutModel",
          "model_module_version": "1.2.0",
          "state": {
            "_model_module": "@jupyter-widgets/base",
            "_model_module_version": "1.2.0",
            "_model_name": "LayoutModel",
            "_view_count": null,
            "_view_module": "@jupyter-widgets/base",
            "_view_module_version": "1.2.0",
            "_view_name": "LayoutView",
            "align_content": null,
            "align_items": null,
            "align_self": null,
            "border": null,
            "bottom": null,
            "display": null,
            "flex": null,
            "flex_flow": null,
            "grid_area": null,
            "grid_auto_columns": null,
            "grid_auto_flow": null,
            "grid_auto_rows": null,
            "grid_column": null,
            "grid_gap": null,
            "grid_row": null,
            "grid_template_areas": null,
            "grid_template_columns": null,
            "grid_template_rows": null,
            "height": null,
            "justify_content": null,
            "justify_items": null,
            "left": null,
            "margin": null,
            "max_height": null,
            "max_width": null,
            "min_height": null,
            "min_width": null,
            "object_fit": null,
            "object_position": null,
            "order": null,
            "overflow": null,
            "overflow_x": null,
            "overflow_y": null,
            "padding": null,
            "right": null,
            "top": null,
            "visibility": null,
            "width": null
          }
        },
        "aebc98f856074109862c2ff955edc73c": {
          "model_module": "@jupyter-widgets/controls",
          "model_name": "DescriptionStyleModel",
          "model_module_version": "1.5.0",
          "state": {
            "_model_module": "@jupyter-widgets/controls",
            "_model_module_version": "1.5.0",
            "_model_name": "DescriptionStyleModel",
            "_view_count": null,
            "_view_module": "@jupyter-widgets/base",
            "_view_module_version": "1.2.0",
            "_view_name": "StyleView",
            "description_width": ""
          }
        },
        "65383ec2334d4b8cbb19b4c8fcde91a7": {
          "model_module": "@jupyter-widgets/base",
          "model_name": "LayoutModel",
          "model_module_version": "1.2.0",
          "state": {
            "_model_module": "@jupyter-widgets/base",
            "_model_module_version": "1.2.0",
            "_model_name": "LayoutModel",
            "_view_count": null,
            "_view_module": "@jupyter-widgets/base",
            "_view_module_version": "1.2.0",
            "_view_name": "LayoutView",
            "align_content": null,
            "align_items": null,
            "align_self": null,
            "border": null,
            "bottom": null,
            "display": null,
            "flex": null,
            "flex_flow": null,
            "grid_area": null,
            "grid_auto_columns": null,
            "grid_auto_flow": null,
            "grid_auto_rows": null,
            "grid_column": null,
            "grid_gap": null,
            "grid_row": null,
            "grid_template_areas": null,
            "grid_template_columns": null,
            "grid_template_rows": null,
            "height": null,
            "justify_content": null,
            "justify_items": null,
            "left": null,
            "margin": null,
            "max_height": null,
            "max_width": null,
            "min_height": null,
            "min_width": null,
            "object_fit": null,
            "object_position": null,
            "order": null,
            "overflow": null,
            "overflow_x": null,
            "overflow_y": null,
            "padding": null,
            "right": null,
            "top": null,
            "visibility": null,
            "width": null
          }
        },
        "a3331d97e7664e7691483d1c5006040d": {
          "model_module": "@jupyter-widgets/controls",
          "model_name": "ProgressStyleModel",
          "model_module_version": "1.5.0",
          "state": {
            "_model_module": "@jupyter-widgets/controls",
            "_model_module_version": "1.5.0",
            "_model_name": "ProgressStyleModel",
            "_view_count": null,
            "_view_module": "@jupyter-widgets/base",
            "_view_module_version": "1.2.0",
            "_view_name": "StyleView",
            "bar_color": null,
            "description_width": ""
          }
        },
        "0b1b795692f94f229f69dc8fe90774ab": {
          "model_module": "@jupyter-widgets/base",
          "model_name": "LayoutModel",
          "model_module_version": "1.2.0",
          "state": {
            "_model_module": "@jupyter-widgets/base",
            "_model_module_version": "1.2.0",
            "_model_name": "LayoutModel",
            "_view_count": null,
            "_view_module": "@jupyter-widgets/base",
            "_view_module_version": "1.2.0",
            "_view_name": "LayoutView",
            "align_content": null,
            "align_items": null,
            "align_self": null,
            "border": null,
            "bottom": null,
            "display": null,
            "flex": null,
            "flex_flow": null,
            "grid_area": null,
            "grid_auto_columns": null,
            "grid_auto_flow": null,
            "grid_auto_rows": null,
            "grid_column": null,
            "grid_gap": null,
            "grid_row": null,
            "grid_template_areas": null,
            "grid_template_columns": null,
            "grid_template_rows": null,
            "height": null,
            "justify_content": null,
            "justify_items": null,
            "left": null,
            "margin": null,
            "max_height": null,
            "max_width": null,
            "min_height": null,
            "min_width": null,
            "object_fit": null,
            "object_position": null,
            "order": null,
            "overflow": null,
            "overflow_x": null,
            "overflow_y": null,
            "padding": null,
            "right": null,
            "top": null,
            "visibility": null,
            "width": null
          }
        },
        "9d4e4f14d88546acab47f0028254b51e": {
          "model_module": "@jupyter-widgets/controls",
          "model_name": "DescriptionStyleModel",
          "model_module_version": "1.5.0",
          "state": {
            "_model_module": "@jupyter-widgets/controls",
            "_model_module_version": "1.5.0",
            "_model_name": "DescriptionStyleModel",
            "_view_count": null,
            "_view_module": "@jupyter-widgets/base",
            "_view_module_version": "1.2.0",
            "_view_name": "StyleView",
            "description_width": ""
          }
        },
        "47ca7f4261e84712a3fd3d4843cebbe4": {
          "model_module": "@jupyter-widgets/controls",
          "model_name": "HBoxModel",
          "model_module_version": "1.5.0",
          "state": {
            "_dom_classes": [],
            "_model_module": "@jupyter-widgets/controls",
            "_model_module_version": "1.5.0",
            "_model_name": "HBoxModel",
            "_view_count": null,
            "_view_module": "@jupyter-widgets/controls",
            "_view_module_version": "1.5.0",
            "_view_name": "HBoxView",
            "box_style": "",
            "children": [
              "IPY_MODEL_9932f6fba911434fb9b75ed4232767d2",
              "IPY_MODEL_a377ba2b672a4171a409f19c1714d78c",
              "IPY_MODEL_42b0e86a201b4c06b64d1318f207f2be"
            ],
            "layout": "IPY_MODEL_73959e31b76a443894828df60609a7d1"
          }
        },
        "9932f6fba911434fb9b75ed4232767d2": {
          "model_module": "@jupyter-widgets/controls",
          "model_name": "HTMLModel",
          "model_module_version": "1.5.0",
          "state": {
            "_dom_classes": [],
            "_model_module": "@jupyter-widgets/controls",
            "_model_module_version": "1.5.0",
            "_model_name": "HTMLModel",
            "_view_count": null,
            "_view_module": "@jupyter-widgets/controls",
            "_view_module_version": "1.5.0",
            "_view_name": "HTMLView",
            "description": "",
            "description_tooltip": null,
            "layout": "IPY_MODEL_6f0be5f1ace34ac4865b9ca6b8bf4255",
            "placeholder": "​",
            "style": "IPY_MODEL_f478e1e7526342c980e1172a7ad94e5e",
            "value": "Map: 100%"
          }
        },
        "a377ba2b672a4171a409f19c1714d78c": {
          "model_module": "@jupyter-widgets/controls",
          "model_name": "FloatProgressModel",
          "model_module_version": "1.5.0",
          "state": {
            "_dom_classes": [],
            "_model_module": "@jupyter-widgets/controls",
            "_model_module_version": "1.5.0",
            "_model_name": "FloatProgressModel",
            "_view_count": null,
            "_view_module": "@jupyter-widgets/controls",
            "_view_module_version": "1.5.0",
            "_view_name": "ProgressView",
            "bar_style": "success",
            "description": "",
            "description_tooltip": null,
            "layout": "IPY_MODEL_dd24cdd5d1d24af3a55196ec455e9f31",
            "max": 500,
            "min": 0,
            "orientation": "horizontal",
            "style": "IPY_MODEL_62a86c90946b4e52b83c392a3eaebded",
            "value": 500
          }
        },
        "42b0e86a201b4c06b64d1318f207f2be": {
          "model_module": "@jupyter-widgets/controls",
          "model_name": "HTMLModel",
          "model_module_version": "1.5.0",
          "state": {
            "_dom_classes": [],
            "_model_module": "@jupyter-widgets/controls",
            "_model_module_version": "1.5.0",
            "_model_name": "HTMLModel",
            "_view_count": null,
            "_view_module": "@jupyter-widgets/controls",
            "_view_module_version": "1.5.0",
            "_view_name": "HTMLView",
            "description": "",
            "description_tooltip": null,
            "layout": "IPY_MODEL_9dc90458397d40c3bf5624aa813611a4",
            "placeholder": "​",
            "style": "IPY_MODEL_1b90d87dd84c4099a223e41ff5a149f8",
            "value": " 500/500 [00:01&lt;00:00, 407.56 examples/s]"
          }
        },
        "73959e31b76a443894828df60609a7d1": {
          "model_module": "@jupyter-widgets/base",
          "model_name": "LayoutModel",
          "model_module_version": "1.2.0",
          "state": {
            "_model_module": "@jupyter-widgets/base",
            "_model_module_version": "1.2.0",
            "_model_name": "LayoutModel",
            "_view_count": null,
            "_view_module": "@jupyter-widgets/base",
            "_view_module_version": "1.2.0",
            "_view_name": "LayoutView",
            "align_content": null,
            "align_items": null,
            "align_self": null,
            "border": null,
            "bottom": null,
            "display": null,
            "flex": null,
            "flex_flow": null,
            "grid_area": null,
            "grid_auto_columns": null,
            "grid_auto_flow": null,
            "grid_auto_rows": null,
            "grid_column": null,
            "grid_gap": null,
            "grid_row": null,
            "grid_template_areas": null,
            "grid_template_columns": null,
            "grid_template_rows": null,
            "height": null,
            "justify_content": null,
            "justify_items": null,
            "left": null,
            "margin": null,
            "max_height": null,
            "max_width": null,
            "min_height": null,
            "min_width": null,
            "object_fit": null,
            "object_position": null,
            "order": null,
            "overflow": null,
            "overflow_x": null,
            "overflow_y": null,
            "padding": null,
            "right": null,
            "top": null,
            "visibility": null,
            "width": null
          }
        },
        "6f0be5f1ace34ac4865b9ca6b8bf4255": {
          "model_module": "@jupyter-widgets/base",
          "model_name": "LayoutModel",
          "model_module_version": "1.2.0",
          "state": {
            "_model_module": "@jupyter-widgets/base",
            "_model_module_version": "1.2.0",
            "_model_name": "LayoutModel",
            "_view_count": null,
            "_view_module": "@jupyter-widgets/base",
            "_view_module_version": "1.2.0",
            "_view_name": "LayoutView",
            "align_content": null,
            "align_items": null,
            "align_self": null,
            "border": null,
            "bottom": null,
            "display": null,
            "flex": null,
            "flex_flow": null,
            "grid_area": null,
            "grid_auto_columns": null,
            "grid_auto_flow": null,
            "grid_auto_rows": null,
            "grid_column": null,
            "grid_gap": null,
            "grid_row": null,
            "grid_template_areas": null,
            "grid_template_columns": null,
            "grid_template_rows": null,
            "height": null,
            "justify_content": null,
            "justify_items": null,
            "left": null,
            "margin": null,
            "max_height": null,
            "max_width": null,
            "min_height": null,
            "min_width": null,
            "object_fit": null,
            "object_position": null,
            "order": null,
            "overflow": null,
            "overflow_x": null,
            "overflow_y": null,
            "padding": null,
            "right": null,
            "top": null,
            "visibility": null,
            "width": null
          }
        },
        "f478e1e7526342c980e1172a7ad94e5e": {
          "model_module": "@jupyter-widgets/controls",
          "model_name": "DescriptionStyleModel",
          "model_module_version": "1.5.0",
          "state": {
            "_model_module": "@jupyter-widgets/controls",
            "_model_module_version": "1.5.0",
            "_model_name": "DescriptionStyleModel",
            "_view_count": null,
            "_view_module": "@jupyter-widgets/base",
            "_view_module_version": "1.2.0",
            "_view_name": "StyleView",
            "description_width": ""
          }
        },
        "dd24cdd5d1d24af3a55196ec455e9f31": {
          "model_module": "@jupyter-widgets/base",
          "model_name": "LayoutModel",
          "model_module_version": "1.2.0",
          "state": {
            "_model_module": "@jupyter-widgets/base",
            "_model_module_version": "1.2.0",
            "_model_name": "LayoutModel",
            "_view_count": null,
            "_view_module": "@jupyter-widgets/base",
            "_view_module_version": "1.2.0",
            "_view_name": "LayoutView",
            "align_content": null,
            "align_items": null,
            "align_self": null,
            "border": null,
            "bottom": null,
            "display": null,
            "flex": null,
            "flex_flow": null,
            "grid_area": null,
            "grid_auto_columns": null,
            "grid_auto_flow": null,
            "grid_auto_rows": null,
            "grid_column": null,
            "grid_gap": null,
            "grid_row": null,
            "grid_template_areas": null,
            "grid_template_columns": null,
            "grid_template_rows": null,
            "height": null,
            "justify_content": null,
            "justify_items": null,
            "left": null,
            "margin": null,
            "max_height": null,
            "max_width": null,
            "min_height": null,
            "min_width": null,
            "object_fit": null,
            "object_position": null,
            "order": null,
            "overflow": null,
            "overflow_x": null,
            "overflow_y": null,
            "padding": null,
            "right": null,
            "top": null,
            "visibility": null,
            "width": null
          }
        },
        "62a86c90946b4e52b83c392a3eaebded": {
          "model_module": "@jupyter-widgets/controls",
          "model_name": "ProgressStyleModel",
          "model_module_version": "1.5.0",
          "state": {
            "_model_module": "@jupyter-widgets/controls",
            "_model_module_version": "1.5.0",
            "_model_name": "ProgressStyleModel",
            "_view_count": null,
            "_view_module": "@jupyter-widgets/base",
            "_view_module_version": "1.2.0",
            "_view_name": "StyleView",
            "bar_color": null,
            "description_width": ""
          }
        },
        "9dc90458397d40c3bf5624aa813611a4": {
          "model_module": "@jupyter-widgets/base",
          "model_name": "LayoutModel",
          "model_module_version": "1.2.0",
          "state": {
            "_model_module": "@jupyter-widgets/base",
            "_model_module_version": "1.2.0",
            "_model_name": "LayoutModel",
            "_view_count": null,
            "_view_module": "@jupyter-widgets/base",
            "_view_module_version": "1.2.0",
            "_view_name": "LayoutView",
            "align_content": null,
            "align_items": null,
            "align_self": null,
            "border": null,
            "bottom": null,
            "display": null,
            "flex": null,
            "flex_flow": null,
            "grid_area": null,
            "grid_auto_columns": null,
            "grid_auto_flow": null,
            "grid_auto_rows": null,
            "grid_column": null,
            "grid_gap": null,
            "grid_row": null,
            "grid_template_areas": null,
            "grid_template_columns": null,
            "grid_template_rows": null,
            "height": null,
            "justify_content": null,
            "justify_items": null,
            "left": null,
            "margin": null,
            "max_height": null,
            "max_width": null,
            "min_height": null,
            "min_width": null,
            "object_fit": null,
            "object_position": null,
            "order": null,
            "overflow": null,
            "overflow_x": null,
            "overflow_y": null,
            "padding": null,
            "right": null,
            "top": null,
            "visibility": null,
            "width": null
          }
        },
        "1b90d87dd84c4099a223e41ff5a149f8": {
          "model_module": "@jupyter-widgets/controls",
          "model_name": "DescriptionStyleModel",
          "model_module_version": "1.5.0",
          "state": {
            "_model_module": "@jupyter-widgets/controls",
            "_model_module_version": "1.5.0",
            "_model_name": "DescriptionStyleModel",
            "_view_count": null,
            "_view_module": "@jupyter-widgets/base",
            "_view_module_version": "1.2.0",
            "_view_name": "StyleView",
            "description_width": ""
          }
        },
        "b138b1c1b1a34d9aad173886377bc36b": {
          "model_module": "@jupyter-widgets/controls",
          "model_name": "HBoxModel",
          "model_module_version": "1.5.0",
          "state": {
            "_dom_classes": [],
            "_model_module": "@jupyter-widgets/controls",
            "_model_module_version": "1.5.0",
            "_model_name": "HBoxModel",
            "_view_count": null,
            "_view_module": "@jupyter-widgets/controls",
            "_view_module_version": "1.5.0",
            "_view_name": "HBoxView",
            "box_style": "",
            "children": [
              "IPY_MODEL_cf274aa5df4d42f2a9d48e91cf37bcd9",
              "IPY_MODEL_4c84751ee1fd450f9070e27140d3137c",
              "IPY_MODEL_1318e7d6013d4b218fbf43692ff16884"
            ],
            "layout": "IPY_MODEL_6582af10c8214be286c769a9c690c6ae"
          }
        },
        "cf274aa5df4d42f2a9d48e91cf37bcd9": {
          "model_module": "@jupyter-widgets/controls",
          "model_name": "HTMLModel",
          "model_module_version": "1.5.0",
          "state": {
            "_dom_classes": [],
            "_model_module": "@jupyter-widgets/controls",
            "_model_module_version": "1.5.0",
            "_model_name": "HTMLModel",
            "_view_count": null,
            "_view_module": "@jupyter-widgets/controls",
            "_view_module_version": "1.5.0",
            "_view_name": "HTMLView",
            "description": "",
            "description_tooltip": null,
            "layout": "IPY_MODEL_e0e264efb3ef410882cc5dab50f62716",
            "placeholder": "​",
            "style": "IPY_MODEL_11c90264559e41d5b13e5ef082f0188a",
            "value": "model.safetensors: 100%"
          }
        },
        "4c84751ee1fd450f9070e27140d3137c": {
          "model_module": "@jupyter-widgets/controls",
          "model_name": "FloatProgressModel",
          "model_module_version": "1.5.0",
          "state": {
            "_dom_classes": [],
            "_model_module": "@jupyter-widgets/controls",
            "_model_module_version": "1.5.0",
            "_model_name": "FloatProgressModel",
            "_view_count": null,
            "_view_module": "@jupyter-widgets/controls",
            "_view_module_version": "1.5.0",
            "_view_name": "ProgressView",
            "bar_style": "success",
            "description": "",
            "description_tooltip": null,
            "layout": "IPY_MODEL_43d5aba7c324448cbcc3b15dd1eff293",
            "max": 498818054,
            "min": 0,
            "orientation": "horizontal",
            "style": "IPY_MODEL_aaae77e15ddb49aea1a7a5e87e1df8b9",
            "value": 498818054
          }
        },
        "1318e7d6013d4b218fbf43692ff16884": {
          "model_module": "@jupyter-widgets/controls",
          "model_name": "HTMLModel",
          "model_module_version": "1.5.0",
          "state": {
            "_dom_classes": [],
            "_model_module": "@jupyter-widgets/controls",
            "_model_module_version": "1.5.0",
            "_model_name": "HTMLModel",
            "_view_count": null,
            "_view_module": "@jupyter-widgets/controls",
            "_view_module_version": "1.5.0",
            "_view_name": "HTMLView",
            "description": "",
            "description_tooltip": null,
            "layout": "IPY_MODEL_e7268f88ddd742b7b48cf7bf4cb33add",
            "placeholder": "​",
            "style": "IPY_MODEL_1c8513b5ce0148358b5de88a61e021c3",
            "value": " 499M/499M [00:06&lt;00:00, 113MB/s]"
          }
        },
        "6582af10c8214be286c769a9c690c6ae": {
          "model_module": "@jupyter-widgets/base",
          "model_name": "LayoutModel",
          "model_module_version": "1.2.0",
          "state": {
            "_model_module": "@jupyter-widgets/base",
            "_model_module_version": "1.2.0",
            "_model_name": "LayoutModel",
            "_view_count": null,
            "_view_module": "@jupyter-widgets/base",
            "_view_module_version": "1.2.0",
            "_view_name": "LayoutView",
            "align_content": null,
            "align_items": null,
            "align_self": null,
            "border": null,
            "bottom": null,
            "display": null,
            "flex": null,
            "flex_flow": null,
            "grid_area": null,
            "grid_auto_columns": null,
            "grid_auto_flow": null,
            "grid_auto_rows": null,
            "grid_column": null,
            "grid_gap": null,
            "grid_row": null,
            "grid_template_areas": null,
            "grid_template_columns": null,
            "grid_template_rows": null,
            "height": null,
            "justify_content": null,
            "justify_items": null,
            "left": null,
            "margin": null,
            "max_height": null,
            "max_width": null,
            "min_height": null,
            "min_width": null,
            "object_fit": null,
            "object_position": null,
            "order": null,
            "overflow": null,
            "overflow_x": null,
            "overflow_y": null,
            "padding": null,
            "right": null,
            "top": null,
            "visibility": null,
            "width": null
          }
        },
        "e0e264efb3ef410882cc5dab50f62716": {
          "model_module": "@jupyter-widgets/base",
          "model_name": "LayoutModel",
          "model_module_version": "1.2.0",
          "state": {
            "_model_module": "@jupyter-widgets/base",
            "_model_module_version": "1.2.0",
            "_model_name": "LayoutModel",
            "_view_count": null,
            "_view_module": "@jupyter-widgets/base",
            "_view_module_version": "1.2.0",
            "_view_name": "LayoutView",
            "align_content": null,
            "align_items": null,
            "align_self": null,
            "border": null,
            "bottom": null,
            "display": null,
            "flex": null,
            "flex_flow": null,
            "grid_area": null,
            "grid_auto_columns": null,
            "grid_auto_flow": null,
            "grid_auto_rows": null,
            "grid_column": null,
            "grid_gap": null,
            "grid_row": null,
            "grid_template_areas": null,
            "grid_template_columns": null,
            "grid_template_rows": null,
            "height": null,
            "justify_content": null,
            "justify_items": null,
            "left": null,
            "margin": null,
            "max_height": null,
            "max_width": null,
            "min_height": null,
            "min_width": null,
            "object_fit": null,
            "object_position": null,
            "order": null,
            "overflow": null,
            "overflow_x": null,
            "overflow_y": null,
            "padding": null,
            "right": null,
            "top": null,
            "visibility": null,
            "width": null
          }
        },
        "11c90264559e41d5b13e5ef082f0188a": {
          "model_module": "@jupyter-widgets/controls",
          "model_name": "DescriptionStyleModel",
          "model_module_version": "1.5.0",
          "state": {
            "_model_module": "@jupyter-widgets/controls",
            "_model_module_version": "1.5.0",
            "_model_name": "DescriptionStyleModel",
            "_view_count": null,
            "_view_module": "@jupyter-widgets/base",
            "_view_module_version": "1.2.0",
            "_view_name": "StyleView",
            "description_width": ""
          }
        },
        "43d5aba7c324448cbcc3b15dd1eff293": {
          "model_module": "@jupyter-widgets/base",
          "model_name": "LayoutModel",
          "model_module_version": "1.2.0",
          "state": {
            "_model_module": "@jupyter-widgets/base",
            "_model_module_version": "1.2.0",
            "_model_name": "LayoutModel",
            "_view_count": null,
            "_view_module": "@jupyter-widgets/base",
            "_view_module_version": "1.2.0",
            "_view_name": "LayoutView",
            "align_content": null,
            "align_items": null,
            "align_self": null,
            "border": null,
            "bottom": null,
            "display": null,
            "flex": null,
            "flex_flow": null,
            "grid_area": null,
            "grid_auto_columns": null,
            "grid_auto_flow": null,
            "grid_auto_rows": null,
            "grid_column": null,
            "grid_gap": null,
            "grid_row": null,
            "grid_template_areas": null,
            "grid_template_columns": null,
            "grid_template_rows": null,
            "height": null,
            "justify_content": null,
            "justify_items": null,
            "left": null,
            "margin": null,
            "max_height": null,
            "max_width": null,
            "min_height": null,
            "min_width": null,
            "object_fit": null,
            "object_position": null,
            "order": null,
            "overflow": null,
            "overflow_x": null,
            "overflow_y": null,
            "padding": null,
            "right": null,
            "top": null,
            "visibility": null,
            "width": null
          }
        },
        "aaae77e15ddb49aea1a7a5e87e1df8b9": {
          "model_module": "@jupyter-widgets/controls",
          "model_name": "ProgressStyleModel",
          "model_module_version": "1.5.0",
          "state": {
            "_model_module": "@jupyter-widgets/controls",
            "_model_module_version": "1.5.0",
            "_model_name": "ProgressStyleModel",
            "_view_count": null,
            "_view_module": "@jupyter-widgets/base",
            "_view_module_version": "1.2.0",
            "_view_name": "StyleView",
            "bar_color": null,
            "description_width": ""
          }
        },
        "e7268f88ddd742b7b48cf7bf4cb33add": {
          "model_module": "@jupyter-widgets/base",
          "model_name": "LayoutModel",
          "model_module_version": "1.2.0",
          "state": {
            "_model_module": "@jupyter-widgets/base",
            "_model_module_version": "1.2.0",
            "_model_name": "LayoutModel",
            "_view_count": null,
            "_view_module": "@jupyter-widgets/base",
            "_view_module_version": "1.2.0",
            "_view_name": "LayoutView",
            "align_content": null,
            "align_items": null,
            "align_self": null,
            "border": null,
            "bottom": null,
            "display": null,
            "flex": null,
            "flex_flow": null,
            "grid_area": null,
            "grid_auto_columns": null,
            "grid_auto_flow": null,
            "grid_auto_rows": null,
            "grid_column": null,
            "grid_gap": null,
            "grid_row": null,
            "grid_template_areas": null,
            "grid_template_columns": null,
            "grid_template_rows": null,
            "height": null,
            "justify_content": null,
            "justify_items": null,
            "left": null,
            "margin": null,
            "max_height": null,
            "max_width": null,
            "min_height": null,
            "min_width": null,
            "object_fit": null,
            "object_position": null,
            "order": null,
            "overflow": null,
            "overflow_x": null,
            "overflow_y": null,
            "padding": null,
            "right": null,
            "top": null,
            "visibility": null,
            "width": null
          }
        },
        "1c8513b5ce0148358b5de88a61e021c3": {
          "model_module": "@jupyter-widgets/controls",
          "model_name": "DescriptionStyleModel",
          "model_module_version": "1.5.0",
          "state": {
            "_model_module": "@jupyter-widgets/controls",
            "_model_module_version": "1.5.0",
            "_model_name": "DescriptionStyleModel",
            "_view_count": null,
            "_view_module": "@jupyter-widgets/base",
            "_view_module_version": "1.2.0",
            "_view_name": "StyleView",
            "description_width": ""
          }
        },
        "a10f240b5d274b1dba168e2b58cd61f5": {
          "model_module": "@jupyter-widgets/controls",
          "model_name": "HBoxModel",
          "model_module_version": "1.5.0",
          "state": {
            "_dom_classes": [],
            "_model_module": "@jupyter-widgets/controls",
            "_model_module_version": "1.5.0",
            "_model_name": "HBoxModel",
            "_view_count": null,
            "_view_module": "@jupyter-widgets/controls",
            "_view_module_version": "1.5.0",
            "_view_name": "HBoxView",
            "box_style": "",
            "children": [
              "IPY_MODEL_f960bc6dc66045acba3e5b9c2135e80f",
              "IPY_MODEL_4b1a1119fd244c929fb95a00f029c02b",
              "IPY_MODEL_baa8f8b6225247f686bbe18fb82753d4"
            ],
            "layout": "IPY_MODEL_6af1a115f83f46b583a89e05b19646b4"
          }
        },
        "f960bc6dc66045acba3e5b9c2135e80f": {
          "model_module": "@jupyter-widgets/controls",
          "model_name": "HTMLModel",
          "model_module_version": "1.5.0",
          "state": {
            "_dom_classes": [],
            "_model_module": "@jupyter-widgets/controls",
            "_model_module_version": "1.5.0",
            "_model_name": "HTMLModel",
            "_view_count": null,
            "_view_module": "@jupyter-widgets/controls",
            "_view_module_version": "1.5.0",
            "_view_name": "HTMLView",
            "description": "",
            "description_tooltip": null,
            "layout": "IPY_MODEL_08e752a93aed46e28e5ee654887e6342",
            "placeholder": "​",
            "style": "IPY_MODEL_50c91e49e81548f38448e3da0744a1fd",
            "value": "100%"
          }
        },
        "4b1a1119fd244c929fb95a00f029c02b": {
          "model_module": "@jupyter-widgets/controls",
          "model_name": "FloatProgressModel",
          "model_module_version": "1.5.0",
          "state": {
            "_dom_classes": [],
            "_model_module": "@jupyter-widgets/controls",
            "_model_module_version": "1.5.0",
            "_model_name": "FloatProgressModel",
            "_view_count": null,
            "_view_module": "@jupyter-widgets/controls",
            "_view_module_version": "1.5.0",
            "_view_name": "ProgressView",
            "bar_style": "",
            "description": "",
            "description_tooltip": null,
            "layout": "IPY_MODEL_48e1d5295fe04053a41870bb8d9e1c65",
            "max": 3000,
            "min": 0,
            "orientation": "horizontal",
            "style": "IPY_MODEL_a7da8ccef8804ffba65c385174b53609",
            "value": 3000
          }
        },
        "baa8f8b6225247f686bbe18fb82753d4": {
          "model_module": "@jupyter-widgets/controls",
          "model_name": "HTMLModel",
          "model_module_version": "1.5.0",
          "state": {
            "_dom_classes": [],
            "_model_module": "@jupyter-widgets/controls",
            "_model_module_version": "1.5.0",
            "_model_name": "HTMLModel",
            "_view_count": null,
            "_view_module": "@jupyter-widgets/controls",
            "_view_module_version": "1.5.0",
            "_view_name": "HTMLView",
            "description": "",
            "description_tooltip": null,
            "layout": "IPY_MODEL_0fe92ee7d198459eb9447cd1c0eab9b0",
            "placeholder": "​",
            "style": "IPY_MODEL_3ec8227f36e64df18e4d7c268bc1fc87",
            "value": " 3000/3000 [37:37&lt;00:00,  1.34it/s]"
          }
        },
        "6af1a115f83f46b583a89e05b19646b4": {
          "model_module": "@jupyter-widgets/base",
          "model_name": "LayoutModel",
          "model_module_version": "1.2.0",
          "state": {
            "_model_module": "@jupyter-widgets/base",
            "_model_module_version": "1.2.0",
            "_model_name": "LayoutModel",
            "_view_count": null,
            "_view_module": "@jupyter-widgets/base",
            "_view_module_version": "1.2.0",
            "_view_name": "LayoutView",
            "align_content": null,
            "align_items": null,
            "align_self": null,
            "border": null,
            "bottom": null,
            "display": null,
            "flex": null,
            "flex_flow": null,
            "grid_area": null,
            "grid_auto_columns": null,
            "grid_auto_flow": null,
            "grid_auto_rows": null,
            "grid_column": null,
            "grid_gap": null,
            "grid_row": null,
            "grid_template_areas": null,
            "grid_template_columns": null,
            "grid_template_rows": null,
            "height": null,
            "justify_content": null,
            "justify_items": null,
            "left": null,
            "margin": null,
            "max_height": null,
            "max_width": null,
            "min_height": null,
            "min_width": null,
            "object_fit": null,
            "object_position": null,
            "order": null,
            "overflow": null,
            "overflow_x": null,
            "overflow_y": null,
            "padding": null,
            "right": null,
            "top": null,
            "visibility": null,
            "width": null
          }
        },
        "08e752a93aed46e28e5ee654887e6342": {
          "model_module": "@jupyter-widgets/base",
          "model_name": "LayoutModel",
          "model_module_version": "1.2.0",
          "state": {
            "_model_module": "@jupyter-widgets/base",
            "_model_module_version": "1.2.0",
            "_model_name": "LayoutModel",
            "_view_count": null,
            "_view_module": "@jupyter-widgets/base",
            "_view_module_version": "1.2.0",
            "_view_name": "LayoutView",
            "align_content": null,
            "align_items": null,
            "align_self": null,
            "border": null,
            "bottom": null,
            "display": null,
            "flex": null,
            "flex_flow": null,
            "grid_area": null,
            "grid_auto_columns": null,
            "grid_auto_flow": null,
            "grid_auto_rows": null,
            "grid_column": null,
            "grid_gap": null,
            "grid_row": null,
            "grid_template_areas": null,
            "grid_template_columns": null,
            "grid_template_rows": null,
            "height": null,
            "justify_content": null,
            "justify_items": null,
            "left": null,
            "margin": null,
            "max_height": null,
            "max_width": null,
            "min_height": null,
            "min_width": null,
            "object_fit": null,
            "object_position": null,
            "order": null,
            "overflow": null,
            "overflow_x": null,
            "overflow_y": null,
            "padding": null,
            "right": null,
            "top": null,
            "visibility": null,
            "width": null
          }
        },
        "50c91e49e81548f38448e3da0744a1fd": {
          "model_module": "@jupyter-widgets/controls",
          "model_name": "DescriptionStyleModel",
          "model_module_version": "1.5.0",
          "state": {
            "_model_module": "@jupyter-widgets/controls",
            "_model_module_version": "1.5.0",
            "_model_name": "DescriptionStyleModel",
            "_view_count": null,
            "_view_module": "@jupyter-widgets/base",
            "_view_module_version": "1.2.0",
            "_view_name": "StyleView",
            "description_width": ""
          }
        },
        "48e1d5295fe04053a41870bb8d9e1c65": {
          "model_module": "@jupyter-widgets/base",
          "model_name": "LayoutModel",
          "model_module_version": "1.2.0",
          "state": {
            "_model_module": "@jupyter-widgets/base",
            "_model_module_version": "1.2.0",
            "_model_name": "LayoutModel",
            "_view_count": null,
            "_view_module": "@jupyter-widgets/base",
            "_view_module_version": "1.2.0",
            "_view_name": "LayoutView",
            "align_content": null,
            "align_items": null,
            "align_self": null,
            "border": null,
            "bottom": null,
            "display": null,
            "flex": null,
            "flex_flow": null,
            "grid_area": null,
            "grid_auto_columns": null,
            "grid_auto_flow": null,
            "grid_auto_rows": null,
            "grid_column": null,
            "grid_gap": null,
            "grid_row": null,
            "grid_template_areas": null,
            "grid_template_columns": null,
            "grid_template_rows": null,
            "height": null,
            "justify_content": null,
            "justify_items": null,
            "left": null,
            "margin": null,
            "max_height": null,
            "max_width": null,
            "min_height": null,
            "min_width": null,
            "object_fit": null,
            "object_position": null,
            "order": null,
            "overflow": null,
            "overflow_x": null,
            "overflow_y": null,
            "padding": null,
            "right": null,
            "top": null,
            "visibility": null,
            "width": null
          }
        },
        "a7da8ccef8804ffba65c385174b53609": {
          "model_module": "@jupyter-widgets/controls",
          "model_name": "ProgressStyleModel",
          "model_module_version": "1.5.0",
          "state": {
            "_model_module": "@jupyter-widgets/controls",
            "_model_module_version": "1.5.0",
            "_model_name": "ProgressStyleModel",
            "_view_count": null,
            "_view_module": "@jupyter-widgets/base",
            "_view_module_version": "1.2.0",
            "_view_name": "StyleView",
            "bar_color": null,
            "description_width": ""
          }
        },
        "0fe92ee7d198459eb9447cd1c0eab9b0": {
          "model_module": "@jupyter-widgets/base",
          "model_name": "LayoutModel",
          "model_module_version": "1.2.0",
          "state": {
            "_model_module": "@jupyter-widgets/base",
            "_model_module_version": "1.2.0",
            "_model_name": "LayoutModel",
            "_view_count": null,
            "_view_module": "@jupyter-widgets/base",
            "_view_module_version": "1.2.0",
            "_view_name": "LayoutView",
            "align_content": null,
            "align_items": null,
            "align_self": null,
            "border": null,
            "bottom": null,
            "display": null,
            "flex": null,
            "flex_flow": null,
            "grid_area": null,
            "grid_auto_columns": null,
            "grid_auto_flow": null,
            "grid_auto_rows": null,
            "grid_column": null,
            "grid_gap": null,
            "grid_row": null,
            "grid_template_areas": null,
            "grid_template_columns": null,
            "grid_template_rows": null,
            "height": null,
            "justify_content": null,
            "justify_items": null,
            "left": null,
            "margin": null,
            "max_height": null,
            "max_width": null,
            "min_height": null,
            "min_width": null,
            "object_fit": null,
            "object_position": null,
            "order": null,
            "overflow": null,
            "overflow_x": null,
            "overflow_y": null,
            "padding": null,
            "right": null,
            "top": null,
            "visibility": null,
            "width": null
          }
        },
        "3ec8227f36e64df18e4d7c268bc1fc87": {
          "model_module": "@jupyter-widgets/controls",
          "model_name": "DescriptionStyleModel",
          "model_module_version": "1.5.0",
          "state": {
            "_model_module": "@jupyter-widgets/controls",
            "_model_module_version": "1.5.0",
            "_model_name": "DescriptionStyleModel",
            "_view_count": null,
            "_view_module": "@jupyter-widgets/base",
            "_view_module_version": "1.2.0",
            "_view_name": "StyleView",
            "description_width": ""
          }
        }
      }
    }
  },
  "cells": [
    {
      "cell_type": "code",
      "source": [
        "!pip install datasets\n",
        "!pip install transformers\n",
        "!pip install evaluate"
      ],
      "metadata": {
        "colab": {
          "base_uri": "https://localhost:8080/"
        },
        "id": "u48EGM0x603e",
        "outputId": "43c2cfe5-7d6d-4039-c96b-78b0ba9d5619"
      },
      "execution_count": null,
      "outputs": [
        {
          "output_type": "stream",
          "name": "stdout",
          "text": [
            "Collecting datasets\n",
            "  Downloading datasets-2.17.1-py3-none-any.whl (536 kB)\n",
            "\u001b[2K     \u001b[90m━━━━━━━━━━━━━━━━━━━━━━━━━━━━━━━━━━━━━━━━\u001b[0m \u001b[32m536.7/536.7 kB\u001b[0m \u001b[31m4.2 MB/s\u001b[0m eta \u001b[36m0:00:00\u001b[0m\n",
            "\u001b[?25hRequirement already satisfied: filelock in /usr/local/lib/python3.10/dist-packages (from datasets) (3.13.1)\n",
            "Requirement already satisfied: numpy>=1.17 in /usr/local/lib/python3.10/dist-packages (from datasets) (1.25.2)\n",
            "Requirement already satisfied: pyarrow>=12.0.0 in /usr/local/lib/python3.10/dist-packages (from datasets) (14.0.2)\n",
            "Requirement already satisfied: pyarrow-hotfix in /usr/local/lib/python3.10/dist-packages (from datasets) (0.6)\n",
            "Collecting dill<0.3.9,>=0.3.0 (from datasets)\n",
            "  Downloading dill-0.3.8-py3-none-any.whl (116 kB)\n",
            "\u001b[2K     \u001b[90m━━━━━━━━━━━━━━━━━━━━━━━━━━━━━━━━━━━━━━━━\u001b[0m \u001b[32m116.3/116.3 kB\u001b[0m \u001b[31m15.4 MB/s\u001b[0m eta \u001b[36m0:00:00\u001b[0m\n",
            "\u001b[?25hRequirement already satisfied: pandas in /usr/local/lib/python3.10/dist-packages (from datasets) (1.5.3)\n",
            "Requirement already satisfied: requests>=2.19.0 in /usr/local/lib/python3.10/dist-packages (from datasets) (2.31.0)\n",
            "Requirement already satisfied: tqdm>=4.62.1 in /usr/local/lib/python3.10/dist-packages (from datasets) (4.66.2)\n",
            "Requirement already satisfied: xxhash in /usr/local/lib/python3.10/dist-packages (from datasets) (3.4.1)\n",
            "Collecting multiprocess (from datasets)\n",
            "  Downloading multiprocess-0.70.16-py310-none-any.whl (134 kB)\n",
            "\u001b[2K     \u001b[90m━━━━━━━━━━━━━━━━━━━━━━━━━━━━━━━━━━━━━━━━\u001b[0m \u001b[32m134.8/134.8 kB\u001b[0m \u001b[31m10.5 MB/s\u001b[0m eta \u001b[36m0:00:00\u001b[0m\n",
            "\u001b[?25hRequirement already satisfied: fsspec[http]<=2023.10.0,>=2023.1.0 in /usr/local/lib/python3.10/dist-packages (from datasets) (2023.6.0)\n",
            "Requirement already satisfied: aiohttp in /usr/local/lib/python3.10/dist-packages (from datasets) (3.9.3)\n",
            "Requirement already satisfied: huggingface-hub>=0.19.4 in /usr/local/lib/python3.10/dist-packages (from datasets) (0.20.3)\n",
            "Requirement already satisfied: packaging in /usr/local/lib/python3.10/dist-packages (from datasets) (23.2)\n",
            "Requirement already satisfied: pyyaml>=5.1 in /usr/local/lib/python3.10/dist-packages (from datasets) (6.0.1)\n",
            "Requirement already satisfied: aiosignal>=1.1.2 in /usr/local/lib/python3.10/dist-packages (from aiohttp->datasets) (1.3.1)\n",
            "Requirement already satisfied: attrs>=17.3.0 in /usr/local/lib/python3.10/dist-packages (from aiohttp->datasets) (23.2.0)\n",
            "Requirement already satisfied: frozenlist>=1.1.1 in /usr/local/lib/python3.10/dist-packages (from aiohttp->datasets) (1.4.1)\n",
            "Requirement already satisfied: multidict<7.0,>=4.5 in /usr/local/lib/python3.10/dist-packages (from aiohttp->datasets) (6.0.5)\n",
            "Requirement already satisfied: yarl<2.0,>=1.0 in /usr/local/lib/python3.10/dist-packages (from aiohttp->datasets) (1.9.4)\n",
            "Requirement already satisfied: async-timeout<5.0,>=4.0 in /usr/local/lib/python3.10/dist-packages (from aiohttp->datasets) (4.0.3)\n",
            "Requirement already satisfied: typing-extensions>=3.7.4.3 in /usr/local/lib/python3.10/dist-packages (from huggingface-hub>=0.19.4->datasets) (4.9.0)\n",
            "Requirement already satisfied: charset-normalizer<4,>=2 in /usr/local/lib/python3.10/dist-packages (from requests>=2.19.0->datasets) (3.3.2)\n",
            "Requirement already satisfied: idna<4,>=2.5 in /usr/local/lib/python3.10/dist-packages (from requests>=2.19.0->datasets) (3.6)\n",
            "Requirement already satisfied: urllib3<3,>=1.21.1 in /usr/local/lib/python3.10/dist-packages (from requests>=2.19.0->datasets) (2.0.7)\n",
            "Requirement already satisfied: certifi>=2017.4.17 in /usr/local/lib/python3.10/dist-packages (from requests>=2.19.0->datasets) (2024.2.2)\n",
            "Requirement already satisfied: python-dateutil>=2.8.1 in /usr/local/lib/python3.10/dist-packages (from pandas->datasets) (2.8.2)\n",
            "Requirement already satisfied: pytz>=2020.1 in /usr/local/lib/python3.10/dist-packages (from pandas->datasets) (2023.4)\n",
            "Requirement already satisfied: six>=1.5 in /usr/local/lib/python3.10/dist-packages (from python-dateutil>=2.8.1->pandas->datasets) (1.16.0)\n"
          ]
        }
      ]
    },
    {
      "cell_type": "markdown",
      "source": [
        "**IMPORTING LIBRARIES**"
      ],
      "metadata": {
        "id": "UiFnOkfRUZH7"
      }
    },
    {
      "cell_type": "code",
      "source": [
        "import pandas as pd\n",
        "import random\n",
        "import numpy as np\n",
        "import torch\n",
        "import evaluate\n",
        "from datasets import load_dataset_builders\n",
        "from datasets import DatasetDict\n",
        "from datasets import Dataset\n",
        "from datasets import load_dataset\n",
        "from torch.utils.data import DataLoader\n",
        "from transformers import AutoTokenizer, RobertaForSequenceClassification\n",
        "from torch.optim import AdamW\n",
        "from transformers import get_scheduler\n",
        "from tqdm.auto import tqdm\n",
        "from sklearn import metrics"
      ],
      "metadata": {
        "id": "w_NEv9e86gN9"
      },
      "execution_count": null,
      "outputs": []
    },
    {
      "cell_type": "markdown",
      "source": [
        "# **EXPLORING DATASET**"
      ],
      "metadata": {
        "id": "IWXq64imUlX4"
      }
    },
    {
      "cell_type": "markdown",
      "source": [
        "load_dataset_builder -> allows us to check features and informantion about dataset without downloading it\n",
        "\n",
        "Here we got to know dataset have 2 columns\n",
        "\n",
        "1. text -> String\n",
        "2. label -> [pos,neg]"
      ],
      "metadata": {
        "id": "CI49NyXJUw43"
      }
    },
    {
      "cell_type": "code",
      "source": [
        "ds=load_dataset_builder(\"imdb\")\n",
        "ds.info.features"
      ],
      "metadata": {
        "id": "zKHTY-I67TY4"
      },
      "execution_count": null,
      "outputs": []
    },
    {
      "cell_type": "markdown",
      "source": [
        "Downloading the dataset"
      ],
      "metadata": {
        "id": "0lpr13AaVSIb"
      }
    },
    {
      "cell_type": "code",
      "source": [
        "\n",
        "#downloading dataset\n",
        "from datasets import load_dataset\n",
        "dataset=load_dataset(\"imdb\")"
      ],
      "metadata": {
        "id": "hZ6rmZr07gXa"
      },
      "execution_count": null,
      "outputs": []
    },
    {
      "cell_type": "markdown",
      "source": [
        "Dataset consists of 3 subsections ->train(25000) , test(25000), unsupervised(50000)\n",
        "\n"
      ],
      "metadata": {
        "id": "_ISAbF6CVjNF"
      }
    },
    {
      "cell_type": "code",
      "source": [
        "dataset"
      ],
      "metadata": {
        "colab": {
          "base_uri": "https://localhost:8080/"
        },
        "id": "GtShSl3d8eiV",
        "outputId": "fd9f06c9-9d74-4772-d723-b2a9da7e8f9c"
      },
      "execution_count": 7,
      "outputs": [
        {
          "output_type": "execute_result",
          "data": {
            "text/plain": [
              "DatasetDict({\n",
              "    train: Dataset({\n",
              "        features: ['text', 'label'],\n",
              "        num_rows: 25000\n",
              "    })\n",
              "    test: Dataset({\n",
              "        features: ['text', 'label'],\n",
              "        num_rows: 25000\n",
              "    })\n",
              "    unsupervised: Dataset({\n",
              "        features: ['text', 'label'],\n",
              "        num_rows: 50000\n",
              "    })\n",
              "})"
            ]
          },
          "metadata": {},
          "execution_count": 7
        }
      ]
    },
    {
      "cell_type": "markdown",
      "source": [
        "Plotting the graph->\n"
      ],
      "metadata": {
        "id": "nXcdQMHPWDWL"
      }
    },
    {
      "cell_type": "code",
      "source": [
        "label_train=dataset[\"train\"][\"label\"]\n",
        "import matplotlib.pyplot as plt\n",
        "plt.plot(label_train)\n",
        "plt.show()\n",
        "# This graph clearly show that first 12500 examples are with label 0 and next 12500 examples are with label 1"
      ],
      "metadata": {
        "colab": {
          "base_uri": "https://localhost:8080/",
          "height": 430
        },
        "id": "en-M_w7h8k89",
        "outputId": "57628621-1b03-4ec6-ed60-40c0c7267bbd"
      },
      "execution_count": 9,
      "outputs": [
        {
          "output_type": "display_data",
          "data": {
            "text/plain": [
              "<Figure size 640x480 with 1 Axes>"
            ],
            "image/png": "[encoded data removed]"
          },
          "metadata": {}
        }
      ]
    },
    {
      "cell_type": "code",
      "source": [
        "label_train=dataset[\"test\"][\"label\"]\n",
        "import matplotlib.pyplot as plt\n",
        "plt.plot(label_train)\n",
        "plt.show()\n",
        "# This graph clearly show that first 12500 examples are with label 0 and next 12500 examples are with label 1"
      ],
      "metadata": {
        "colab": {
          "base_uri": "https://localhost:8080/",
          "height": 430
        },
        "id": "0ITcFzMCWQzk",
        "outputId": "15cfe898-368d-464e-8ca1-2a76621afc9d"
      },
      "execution_count": 10,
      "outputs": [
        {
          "output_type": "display_data",
          "data": {
            "text/plain": [
              "<Figure size 640x480 with 1 Axes>"
            ],
            "image/png": "[encoded data removed]"
          },
          "metadata": {}
        }
      ]
    },
    {
      "cell_type": "code",
      "source": [
        "label_train=dataset[\"unsupervised\"][\"label\"]\n",
        "import matplotlib.pyplot as plt\n",
        "plt.plot(label_train)\n",
        "plt.show()\n",
        "#here all the samples ares completely labeled as -1\n",
        "#we have to remove this section entirely"
      ],
      "metadata": {
        "colab": {
          "base_uri": "https://localhost:8080/",
          "height": 430
        },
        "id": "yazZnAGRWavF",
        "outputId": "6a590699-6cc8-4492-b48a-3a91e1ead219"
      },
      "execution_count": 12,
      "outputs": [
        {
          "output_type": "display_data",
          "data": {
            "text/plain": [
              "<Figure size 640x480 with 1 Axes>"
            ],
            "image/png": "[encoded data removed]"
          },
          "metadata": {}
        }
      ]
    },
    {
      "cell_type": "markdown",
      "source": [
        "# **CREATION OF DATASET**\n",
        "\n",
        "create a new dataset from the existing one with 5k rows\n",
        "\n",
        "split->train(80%),val(10%),test(10%)"
      ],
      "metadata": {
        "id": "Zm_-M8LlWmHG"
      }
    },
    {
      "cell_type": "code",
      "source": [
        "#randomly choosing index of 2500 negative examples\n",
        "input=range(0,12500)\n",
        "neg_index=np.sort((random.sample(input,2500)))\n",
        "#randomly choosing index of 2500 positive examples\n",
        "input=range(12500,25000)\n",
        "pos_index=np.sort((random.sample(input,2500)))\n",
        "\n",
        "#final_index_train=neg_index[:2000]+pos_index[:2000] and then shuffle it\n",
        "final_index_train=np.concatenate((neg_index[0:2000],pos_index[0:2000]))\n",
        "np.random.shuffle(final_index_train)\n",
        "#final_index_val=neg_index[2000:2250]+pos_index[2000:2250] and then shuffle it\n",
        "final_index_val=np.concatenate((neg_index[2000:2250],pos_index[2000:2250]))\n",
        "np.random.shuffle(final_index_val)\n",
        "#final_index_val=neg_index[2250:2500]+pos_index[2250:2500] and then shuffle it\n",
        "final_index_test=np.concatenate((neg_index[2250:2500],pos_index[2250:2500]))\n",
        "np.random.shuffle(final_index_test)\n",
        "\n",
        "#So each section have equal number of positive and negative samples->\n",
        "#test has 2000 pos and 2000 neg\n",
        "#val has 250 pos and 250 neg\n",
        "#test has 250 pos and 250 neg\n",
        "\n",
        "valid_indices_train=final_index_train.tolist()\n",
        "valid_indices_val=final_index_val.tolist()\n",
        "valid_indices_test=final_index_test.tolist()\n",
        "\n",
        "# making Dataset according to hugging face format from 3 dictionaries\n",
        "train_data={\n",
        "    \"text\":[dataset[\"train\"][i][\"text\"] for i in valid_indices_train],\n",
        "    \"label\":[dataset[\"train\"][i][\"label\"] for i in valid_indices_train]\n",
        "}\n",
        "train_dataset=Dataset.from_dict(train_data)\n",
        "val_data={\n",
        "    \"text\":[dataset[\"train\"][i][\"text\"] for i in valid_indices_val],\n",
        "    \"label\":[dataset[\"train\"][i][\"label\"] for i in valid_indices_val]\n",
        "}\n",
        "val_dataset=Dataset.from_dict(val_data)\n",
        "test_data={\n",
        "    \"text\":[dataset[\"train\"][i][\"text\"] for i in valid_indices_test],\n",
        "    \"label\":[dataset[\"train\"][i][\"label\"] for i in valid_indices_test]\n",
        "}\n",
        "test_dataset=Dataset.from_dict(test_data)\n",
        "\n",
        "#combining the three Dict to form the overall dataset\n",
        "dataset=DatasetDict({\"train\":train_dataset,\"val\":val_dataset,\"test\":test_dataset})"
      ],
      "metadata": {
        "id": "29uk7sOM_-aO"
      },
      "execution_count": 14,
      "outputs": []
    },
    {
      "cell_type": "code",
      "source": [
        "dataset"
      ],
      "metadata": {
        "colab": {
          "base_uri": "https://localhost:8080/"
        },
        "id": "QEhPWXU5BT9O",
        "outputId": "e960743e-c923-4dc6-8d26-cbc10de8158c"
      },
      "execution_count": 15,
      "outputs": [
        {
          "output_type": "execute_result",
          "data": {
            "text/plain": [
              "DatasetDict({\n",
              "    train: Dataset({\n",
              "        features: ['text', 'label'],\n",
              "        num_rows: 4000\n",
              "    })\n",
              "    val: Dataset({\n",
              "        features: ['text', 'label'],\n",
              "        num_rows: 500\n",
              "    })\n",
              "    test: Dataset({\n",
              "        features: ['text', 'label'],\n",
              "        num_rows: 500\n",
              "    })\n",
              "})"
            ]
          },
          "metadata": {},
          "execution_count": 15
        }
      ]
    },
    {
      "cell_type": "markdown",
      "source": [
        "# **TOKENIZER SETUP**"
      ],
      "metadata": {
        "id": "6CAiVT3kGEyb"
      }
    },
    {
      "cell_type": "code",
      "source": [
        "#Downloading the tokenizer from the pretrained model\n",
        "from transformers import RobertaTokenizer\n",
        "tokenizer = RobertaTokenizer.from_pretrained(\"FacebookAI/roberta-base\")"
      ],
      "metadata": {
        "id": "JRMZAKBDGBbC"
      },
      "execution_count": 22,
      "outputs": []
    },
    {
      "cell_type": "markdown",
      "source": [
        "# **TOKENIZING DATASET**"
      ],
      "metadata": {
        "id": "RDO5d7LKZbyF"
      }
    },
    {
      "cell_type": "code",
      "source": [
        "def tokenize_function(examples):\n",
        "    return tokenizer(examples[\"text\"], padding=\"max_length\", truncation=True)\n",
        "\n",
        "# Tokenizing the dataset\n",
        "tokenized_datasets = dataset.map(tokenize_function)\n",
        "\n",
        "tokenized_datasets"
      ],
      "metadata": {
        "colab": {
          "base_uri": "https://localhost:8080/",
          "height": 356,
          "referenced_widgets": [
            "cddf61a77a6d4d2fb56c298bb45b29f9",
            "5337142a8b494ca0800c9f328a4116f7",
            "01638be7172f4523a199b4702609fe1f",
            "513de0e4659f4462a7eabd6aa2ca6ef0",
            "d21ec4f9803f4f9eae3a64067dbc718f",
            "f85b88499ea74e69a634f08844324475",
            "c9bdfc9455cf48bea3e80e6e2dabfd60",
            "9400f9d137a648a3a5b0385e7e1d1cde",
            "209b35e64ba643b19d86b7db73ff53f6",
            "a371ca638e1148a384b810d75d3d26af",
            "63040cb3d2b643c3b599497d0e30baed",
            "da433cf54dac4aa6bdf717d8bebc8e6a",
            "0af661e7f37a47339f62ad4f87eda9a0",
            "26a7c8ab54a346979701faa1643453fa",
            "7ef1b5ea8ed64b78b6b4144b685a176f",
            "c53182ffdf614d5fa2828a257d759cba",
            "8a5f37c0a92a42869329fabcb8257943",
            "aebc98f856074109862c2ff955edc73c",
            "65383ec2334d4b8cbb19b4c8fcde91a7",
            "a3331d97e7664e7691483d1c5006040d",
            "0b1b795692f94f229f69dc8fe90774ab",
            "9d4e4f14d88546acab47f0028254b51e",
            "47ca7f4261e84712a3fd3d4843cebbe4",
            "9932f6fba911434fb9b75ed4232767d2",
            "a377ba2b672a4171a409f19c1714d78c",
            "42b0e86a201b4c06b64d1318f207f2be",
            "73959e31b76a443894828df60609a7d1",
            "6f0be5f1ace34ac4865b9ca6b8bf4255",
            "f478e1e7526342c980e1172a7ad94e5e",
            "dd24cdd5d1d24af3a55196ec455e9f31",
            "62a86c90946b4e52b83c392a3eaebded",
            "9dc90458397d40c3bf5624aa813611a4",
            "1b90d87dd84c4099a223e41ff5a149f8"
          ]
        },
        "id": "nz084gALHTnr",
        "outputId": "fb5bdafe-4709-4ca2-b9cd-8b644ed9731d"
      },
      "execution_count": 23,
      "outputs": [
        {
          "output_type": "display_data",
          "data": {
            "text/plain": [
              "Map:   0%|          | 0/4000 [00:00<?, ? examples/s]"
            ],
            "application/vnd.jupyter.widget-view+json": {
              "version_major": 2,
              "version_minor": 0,
              "model_id": "cddf61a77a6d4d2fb56c298bb45b29f9"
            }
          },
          "metadata": {}
        },
        {
          "output_type": "display_data",
          "data": {
            "text/plain": [
              "Map:   0%|          | 0/500 [00:00<?, ? examples/s]"
            ],
            "application/vnd.jupyter.widget-view+json": {
              "version_major": 2,
              "version_minor": 0,
              "model_id": "da433cf54dac4aa6bdf717d8bebc8e6a"
            }
          },
          "metadata": {}
        },
        {
          "output_type": "display_data",
          "data": {
            "text/plain": [
              "Map:   0%|          | 0/500 [00:00<?, ? examples/s]"
            ],
            "application/vnd.jupyter.widget-view+json": {
              "version_major": 2,
              "version_minor": 0,
              "model_id": "47ca7f4261e84712a3fd3d4843cebbe4"
            }
          },
          "metadata": {}
        },
        {
          "output_type": "execute_result",
          "data": {
            "text/plain": [
              "DatasetDict({\n",
              "    train: Dataset({\n",
              "        features: ['text', 'label', 'input_ids', 'attention_mask'],\n",
              "        num_rows: 4000\n",
              "    })\n",
              "    val: Dataset({\n",
              "        features: ['text', 'label', 'input_ids', 'attention_mask'],\n",
              "        num_rows: 500\n",
              "    })\n",
              "    test: Dataset({\n",
              "        features: ['text', 'label', 'input_ids', 'attention_mask'],\n",
              "        num_rows: 500\n",
              "    })\n",
              "})"
            ]
          },
          "metadata": {},
          "execution_count": 23
        }
      ]
    },
    {
      "cell_type": "markdown",
      "source": [
        "we have to remove text columns from the dataset and columns with labels should be name \"labels\"\n",
        "\n",
        "this is how model expect the dataset during training"
      ],
      "metadata": {
        "id": "BA7fZiqmZyuN"
      }
    },
    {
      "cell_type": "code",
      "source": [
        "# Remove the text feilds\n",
        "tokenized_datasets = tokenized_datasets.remove_columns([\"text\"])\n",
        "# label->labels\n",
        "tokenized_datasets = tokenized_datasets.rename_column(\"label\", \"labels\")\n",
        "\n",
        "# convert the dataset to pytorch format\n",
        "tokenized_datasets.set_format(\"torch\")"
      ],
      "metadata": {
        "id": "qLp8_51yHyxO"
      },
      "execution_count": 24,
      "outputs": []
    },
    {
      "cell_type": "code",
      "source": [
        "tokenized_datasets"
      ],
      "metadata": {
        "colab": {
          "base_uri": "https://localhost:8080/"
        },
        "id": "uncNoBbnKrCi",
        "outputId": "2493e708-b5a2-4553-b3f3-e50f52881fff"
      },
      "execution_count": 25,
      "outputs": [
        {
          "output_type": "execute_result",
          "data": {
            "text/plain": [
              "DatasetDict({\n",
              "    train: Dataset({\n",
              "        features: ['labels', 'input_ids', 'attention_mask'],\n",
              "        num_rows: 4000\n",
              "    })\n",
              "    val: Dataset({\n",
              "        features: ['labels', 'input_ids', 'attention_mask'],\n",
              "        num_rows: 500\n",
              "    })\n",
              "    test: Dataset({\n",
              "        features: ['labels', 'input_ids', 'attention_mask'],\n",
              "        num_rows: 500\n",
              "    })\n",
              "})"
            ]
          },
          "metadata": {},
          "execution_count": 25
        }
      ]
    },
    {
      "cell_type": "markdown",
      "source": [
        "# **DATALOADERS**\n",
        "\n",
        "Making the dataloaders to make iterable objects and for dividing the datsets to batches"
      ],
      "metadata": {
        "id": "FEB0oboiaX-T"
      }
    },
    {
      "cell_type": "code",
      "source": [
        "train_dataloader = DataLoader(tokenized_datasets[\"train\"], shuffle=True, batch_size=8)\n",
        "val_dataloader = DataLoader(tokenized_datasets[\"val\"], shuffle=True, batch_size=8)\n",
        "test_dataloader = DataLoader(tokenized_datasets[\"test\"], shuffle=True,batch_size=8)"
      ],
      "metadata": {
        "id": "VEGrSHU5Jjqm"
      },
      "execution_count": 29,
      "outputs": []
    },
    {
      "cell_type": "markdown",
      "source": [
        "# **HYPERPARAMETERS**"
      ],
      "metadata": {
        "id": "7CaacjAWbRAL"
      }
    },
    {
      "cell_type": "code",
      "source": [
        "lr=3e-05\n",
        "num_epochs = 5\n",
        "num_warmup_steps=5\n",
        "num_training_steps = num_epochs * len(train_dataloader)"
      ],
      "metadata": {
        "id": "LaTItGEvLOCw"
      },
      "execution_count": 34,
      "outputs": []
    },
    {
      "cell_type": "markdown",
      "source": [
        "# **LOADING MODEL**"
      ],
      "metadata": {
        "id": "_0W3B5Uoa4dq"
      }
    },
    {
      "cell_type": "code",
      "source": [
        "# num_labels=numbers of classes ->2\n",
        "model = RobertaForSequenceClassification.from_pretrained(\"FacebookAI/roberta-base\",num_labels=2)"
      ],
      "metadata": {
        "colab": {
          "base_uri": "https://localhost:8080/",
          "height": 104,
          "referenced_widgets": [
            "b138b1c1b1a34d9aad173886377bc36b",
            "cf274aa5df4d42f2a9d48e91cf37bcd9",
            "4c84751ee1fd450f9070e27140d3137c",
            "1318e7d6013d4b218fbf43692ff16884",
            "6582af10c8214be286c769a9c690c6ae",
            "e0e264efb3ef410882cc5dab50f62716",
            "11c90264559e41d5b13e5ef082f0188a",
            "43d5aba7c324448cbcc3b15dd1eff293",
            "aaae77e15ddb49aea1a7a5e87e1df8b9",
            "e7268f88ddd742b7b48cf7bf4cb33add",
            "1c8513b5ce0148358b5de88a61e021c3"
          ]
        },
        "id": "KFd93O8mKlh2",
        "outputId": "c83e53a6-6036-4b54-a673-a9225bf3c819"
      },
      "execution_count": 27,
      "outputs": [
        {
          "output_type": "display_data",
          "data": {
            "text/plain": [
              "model.safetensors:   0%|          | 0.00/499M [00:00<?, ?B/s]"
            ],
            "application/vnd.jupyter.widget-view+json": {
              "version_major": 2,
              "version_minor": 0,
              "model_id": "b138b1c1b1a34d9aad173886377bc36b"
            }
          },
          "metadata": {}
        },
        {
          "output_type": "stream",
          "name": "stderr",
          "text": [
            "Some weights of RobertaForSequenceClassification were not initialized from the model checkpoint at FacebookAI/roberta-base and are newly initialized: ['classifier.dense.bias', 'classifier.dense.weight', 'classifier.out_proj.bias', 'classifier.out_proj.weight']\n",
            "You should probably TRAIN this model on a down-stream task to be able to use it for predictions and inference.\n"
          ]
        }
      ]
    },
    {
      "cell_type": "markdown",
      "source": [
        "Putting model on device(cuda or cpu)"
      ],
      "metadata": {
        "id": "dIuT5aQ5cwL6"
      }
    },
    {
      "cell_type": "code",
      "source": [
        "#device = cuda if cuda available or else cpu\n",
        "device = torch.device(\"cuda\") if torch.cuda.is_available() else torch.device(\"cpu\")\n",
        "model.to(device)"
      ],
      "metadata": {
        "colab": {
          "base_uri": "https://localhost:8080/"
        },
        "id": "1uuNGKg0MOGa",
        "outputId": "ddd3a224-4671-4970-ac04-63ab5da6e217"
      },
      "execution_count": 32,
      "outputs": [
        {
          "output_type": "execute_result",
          "data": {
            "text/plain": [
              "RobertaForSequenceClassification(\n",
              "  (roberta): RobertaModel(\n",
              "    (embeddings): RobertaEmbeddings(\n",
              "      (word_embeddings): Embedding(50265, 768, padding_idx=1)\n",
              "      (position_embeddings): Embedding(514, 768, padding_idx=1)\n",
              "      (token_type_embeddings): Embedding(1, 768)\n",
              "      (LayerNorm): LayerNorm((768,), eps=1e-05, elementwise_affine=True)\n",
              "      (dropout): Dropout(p=0.1, inplace=False)\n",
              "    )\n",
              "    (encoder): RobertaEncoder(\n",
              "      (layer): ModuleList(\n",
              "        (0-11): 12 x RobertaLayer(\n",
              "          (attention): RobertaAttention(\n",
              "            (self): RobertaSelfAttention(\n",
              "              (query): Linear(in_features=768, out_features=768, bias=True)\n",
              "              (key): Linear(in_features=768, out_features=768, bias=True)\n",
              "              (value): Linear(in_features=768, out_features=768, bias=True)\n",
              "              (dropout): Dropout(p=0.1, inplace=False)\n",
              "            )\n",
              "            (output): RobertaSelfOutput(\n",
              "              (dense): Linear(in_features=768, out_features=768, bias=True)\n",
              "              (LayerNorm): LayerNorm((768,), eps=1e-05, elementwise_affine=True)\n",
              "              (dropout): Dropout(p=0.1, inplace=False)\n",
              "            )\n",
              "          )\n",
              "          (intermediate): RobertaIntermediate(\n",
              "            (dense): Linear(in_features=768, out_features=3072, bias=True)\n",
              "            (intermediate_act_fn): GELUActivation()\n",
              "          )\n",
              "          (output): RobertaOutput(\n",
              "            (dense): Linear(in_features=3072, out_features=768, bias=True)\n",
              "            (LayerNorm): LayerNorm((768,), eps=1e-05, elementwise_affine=True)\n",
              "            (dropout): Dropout(p=0.1, inplace=False)\n",
              "          )\n",
              "        )\n",
              "      )\n",
              "    )\n",
              "  )\n",
              "  (classifier): RobertaClassificationHead(\n",
              "    (dense): Linear(in_features=768, out_features=768, bias=True)\n",
              "    (dropout): Dropout(p=0.1, inplace=False)\n",
              "    (out_proj): Linear(in_features=768, out_features=2, bias=True)\n",
              "  )\n",
              ")"
            ]
          },
          "metadata": {},
          "execution_count": 32
        }
      ]
    },
    {
      "cell_type": "markdown",
      "source": [
        "# **OPTIMIZER SETUP**"
      ],
      "metadata": {
        "id": "dQBmrEnicXvi"
      }
    },
    {
      "cell_type": "code",
      "source": [
        "optimizer = AdamW(model.parameters(), lr=lr)\n",
        "lr_scheduler = get_scheduler(\n",
        "    name=\"linear\", optimizer=optimizer, num_warmup_steps=num_warmup_steps, num_training_steps=num_training_steps\n",
        ")"
      ],
      "metadata": {
        "id": "ymqczAjdcV0Q"
      },
      "execution_count": 33,
      "outputs": []
    },
    {
      "cell_type": "markdown",
      "source": [
        "# **TRAINING LOOP**"
      ],
      "metadata": {
        "id": "OMMRUgoqdDUL"
      }
    },
    {
      "cell_type": "code",
      "source": [
        "progress_bar = tqdm(range(num_training_steps))\n",
        "\n",
        "trainingEpoch_loss = []\n",
        "Steps_final=[]\n",
        "\n",
        "model.train()\n",
        "\n",
        "for epoch in range(num_epochs):\n",
        "  step_loss = []\n",
        "  for i,batch in enumerate(train_dataloader):\n",
        "    batch = {k: v.to(device) for k, v in batch.items()}\n",
        "    outputs = model(**batch)\n",
        "    loss = outputs.loss\n",
        "    loss.backward()\n",
        "\n",
        "    optimizer.step()\n",
        "    lr_scheduler.step()\n",
        "    optimizer.zero_grad()\n",
        "    progress_bar.update(1)\n",
        "\n",
        "    step_loss.append(loss.item())\n",
        "    if (i+1) % 50 == 0:\n",
        "      print (f'Epoch [{epoch+1}/{num_epochs}], Step [{i+1}/{len(train_dataloader)}], Loss: {loss.item():.4f}')\n",
        "  Steps_final.append(step_loss)\n",
        "  trainingEpoch_loss.append(np.array(step_loss).mean())"
      ],
      "metadata": {
        "colab": {
          "base_uri": "https://localhost:8080/",
          "height": 1000,
          "referenced_widgets": [
            "a10f240b5d274b1dba168e2b58cd61f5",
            "f960bc6dc66045acba3e5b9c2135e80f",
            "4b1a1119fd244c929fb95a00f029c02b",
            "baa8f8b6225247f686bbe18fb82753d4",
            "6af1a115f83f46b583a89e05b19646b4",
            "08e752a93aed46e28e5ee654887e6342",
            "50c91e49e81548f38448e3da0744a1fd",
            "48e1d5295fe04053a41870bb8d9e1c65",
            "a7da8ccef8804ffba65c385174b53609",
            "0fe92ee7d198459eb9447cd1c0eab9b0",
            "3ec8227f36e64df18e4d7c268bc1fc87"
          ]
        },
        "id": "Fj8lfWvDMcnQ",
        "outputId": "588f6567-fe1b-46b5-a04e-6543b94f2a74"
      },
      "execution_count": 35,
      "outputs": [
        {
          "output_type": "display_data",
          "data": {
            "text/plain": [
              "  0%|          | 0/3000 [00:00<?, ?it/s]"
            ],
            "application/vnd.jupyter.widget-view+json": {
              "version_major": 2,
              "version_minor": 0,
              "model_id": "a10f240b5d274b1dba168e2b58cd61f5"
            }
          },
          "metadata": {}
        },
        {
          "output_type": "stream",
          "name": "stdout",
          "text": [
            "Epoch [1/6], Step [50/500], Loss: 0.3174\n",
            "Epoch [1/6], Step [100/500], Loss: 0.3755\n",
            "Epoch [1/6], Step [150/500], Loss: 0.3517\n",
            "Epoch [1/6], Step [200/500], Loss: 0.4626\n",
            "Epoch [1/6], Step [250/500], Loss: 0.0806\n",
            "Epoch [1/6], Step [300/500], Loss: 0.6169\n",
            "Epoch [1/6], Step [350/500], Loss: 0.6939\n",
            "Epoch [1/6], Step [400/500], Loss: 0.0792\n",
            "Epoch [1/6], Step [450/500], Loss: 0.0243\n",
            "Epoch [1/6], Step [500/500], Loss: 0.1090\n",
            "Epoch [2/6], Step [50/500], Loss: 0.0382\n",
            "Epoch [2/6], Step [100/500], Loss: 0.3586\n",
            "Epoch [2/6], Step [150/500], Loss: 0.3108\n",
            "Epoch [2/6], Step [200/500], Loss: 0.0908\n",
            "Epoch [2/6], Step [250/500], Loss: 0.1098\n",
            "Epoch [2/6], Step [300/500], Loss: 0.0221\n",
            "Epoch [2/6], Step [350/500], Loss: 0.0111\n",
            "Epoch [2/6], Step [400/500], Loss: 0.2257\n",
            "Epoch [2/6], Step [450/500], Loss: 0.0279\n",
            "Epoch [2/6], Step [500/500], Loss: 0.1158\n",
            "Epoch [3/6], Step [50/500], Loss: 0.0515\n",
            "Epoch [3/6], Step [100/500], Loss: 0.0575\n",
            "Epoch [3/6], Step [150/500], Loss: 0.0202\n",
            "Epoch [3/6], Step [200/500], Loss: 0.0275\n",
            "Epoch [3/6], Step [250/500], Loss: 0.5931\n",
            "Epoch [3/6], Step [300/500], Loss: 0.0087\n",
            "Epoch [3/6], Step [350/500], Loss: 0.0035\n",
            "Epoch [3/6], Step [400/500], Loss: 0.0044\n",
            "Epoch [3/6], Step [450/500], Loss: 0.1133\n",
            "Epoch [3/6], Step [500/500], Loss: 0.0069\n",
            "Epoch [4/6], Step [50/500], Loss: 0.0039\n",
            "Epoch [4/6], Step [100/500], Loss: 0.0516\n",
            "Epoch [4/6], Step [150/500], Loss: 0.0020\n",
            "Epoch [4/6], Step [200/500], Loss: 0.0308\n",
            "Epoch [4/6], Step [250/500], Loss: 0.0044\n",
            "Epoch [4/6], Step [300/500], Loss: 0.0291\n",
            "Epoch [4/6], Step [350/500], Loss: 0.0053\n",
            "Epoch [4/6], Step [400/500], Loss: 0.0017\n",
            "Epoch [4/6], Step [450/500], Loss: 0.0039\n",
            "Epoch [4/6], Step [500/500], Loss: 0.0024\n",
            "Epoch [5/6], Step [50/500], Loss: 0.0745\n",
            "Epoch [5/6], Step [100/500], Loss: 0.0028\n",
            "Epoch [5/6], Step [150/500], Loss: 0.0042\n",
            "Epoch [5/6], Step [200/500], Loss: 0.0142\n",
            "Epoch [5/6], Step [250/500], Loss: 0.0014\n",
            "Epoch [5/6], Step [300/500], Loss: 0.0020\n",
            "Epoch [5/6], Step [350/500], Loss: 0.0034\n",
            "Epoch [5/6], Step [400/500], Loss: 0.0025\n",
            "Epoch [5/6], Step [450/500], Loss: 0.0036\n",
            "Epoch [5/6], Step [500/500], Loss: 0.0033\n",
            "Epoch [6/6], Step [50/500], Loss: 0.0020\n",
            "Epoch [6/6], Step [100/500], Loss: 0.0034\n",
            "Epoch [6/6], Step [150/500], Loss: 0.0028\n",
            "Epoch [6/6], Step [200/500], Loss: 0.0022\n",
            "Epoch [6/6], Step [250/500], Loss: 0.0023\n",
            "Epoch [6/6], Step [300/500], Loss: 0.0026\n",
            "Epoch [6/6], Step [350/500], Loss: 0.0033\n",
            "Epoch [6/6], Step [400/500], Loss: 0.0049\n",
            "Epoch [6/6], Step [450/500], Loss: 0.0037\n",
            "Epoch [6/6], Step [500/500], Loss: 0.0030\n"
          ]
        }
      ]
    },
    {
      "cell_type": "markdown",
      "source": [
        "# **GRAPHS FOR TRAINING**"
      ],
      "metadata": {
        "id": "DGm4-ZNv57o6"
      }
    },
    {
      "cell_type": "markdown",
      "source": [
        "LOSS VS EPOCH"
      ],
      "metadata": {
        "id": "PyELEKUA6Dea"
      }
    },
    {
      "cell_type": "code",
      "source": [
        "from matplotlib import pyplot as plt\n",
        "plt.plot(trainingEpoch_loss)\n",
        "plt.title(\"loss vs epoch\")\n",
        "plt.xlabel(\"epoch\")\n",
        "plt.ylabel(\"loss\")\n",
        "plt.show()"
      ],
      "metadata": {
        "colab": {
          "base_uri": "https://localhost:8080/",
          "height": 472
        },
        "id": "erJ45HBxVa4w",
        "outputId": "23f8a764-4c9f-4bff-dc2d-6c3f0ff1535b"
      },
      "execution_count": 47,
      "outputs": [
        {
          "output_type": "display_data",
          "data": {
            "text/plain": [
              "<Figure size 640x480 with 1 Axes>"
            ],
            "image/png": "[encoded data removed]"
          },
          "metadata": {}
        }
      ]
    },
    {
      "cell_type": "markdown",
      "source": [
        "LOSS VS STEP"
      ],
      "metadata": {
        "id": "VPO-5Fto6M2l"
      }
    },
    {
      "cell_type": "code",
      "source": [
        "figure,axis=plt.subplots(2,3)\n",
        "\n",
        "axis[0,0].plot(Steps_final[0])\n",
        "axis[0,0].set_title(\"Epoch 1\")\n",
        "axis[0,1].plot(Steps_final[1])\n",
        "axis[0,1].set_title(\"Epoch 2\")\n",
        "axis[0,2].plot(Steps_final[2])\n",
        "axis[0,2].set_title(\"Epoch 3\")\n",
        "axis[1,0].plot(Steps_final[3])\n",
        "axis[1,0].set_title(\"Epoch 4\")\n",
        "axis[1,1].plot(Steps_final[4])\n",
        "axis[1,1].set_title(\"Epoch 5\")\n",
        "axis[1,2].plot(Steps_final[5])\n",
        "axis[1,2].set_title(\"Epoch 6\")\n",
        "\n",
        "plt.title(\"Loss vs Step\")\n",
        "\n",
        "plt.show()"
      ],
      "metadata": {
        "colab": {
          "base_uri": "https://localhost:8080/",
          "height": 452
        },
        "id": "rquy-dyaoLwm",
        "outputId": "5aa3bff6-7f20-4aac-e803-3e1be63aaea4"
      },
      "execution_count": 59,
      "outputs": [
        {
          "output_type": "display_data",
          "data": {
            "text/plain": [
              "<Figure size 640x480 with 6 Axes>"
            ],
            "image/png": "[encoded data removed]"
          },
          "metadata": {}
        }
      ]
    },
    {
      "cell_type": "markdown",
      "source": [
        "# **GRAPHS FOR VAL DATA**"
      ],
      "metadata": {
        "id": "yAtcPrNL46Mk"
      }
    },
    {
      "cell_type": "code",
      "source": [
        "model.eval()\n",
        "validationEpoch_loss = []\n",
        "Steps_final=[]\n",
        "\n",
        "for epoch in range(num_epochs):\n",
        "  step_loss = []\n",
        "  for i,batch in enumerate(val_dataloader):\n",
        "    batch = {k: v.to(device) for k, v in batch.items()}\n",
        "    outputs = model(**batch)\n",
        "    loss = outputs.loss\n",
        "\n",
        "    step_loss.append(loss.item())\n",
        "\n",
        "  Steps_final.append(step_loss)\n",
        "  validationEpoch_loss.append(np.array(step_loss).mean())"
      ],
      "metadata": {
        "id": "EiL7DjpHPtzP"
      },
      "execution_count": 52,
      "outputs": []
    },
    {
      "cell_type": "markdown",
      "source": [
        "LOSS VS EPOCH"
      ],
      "metadata": {
        "id": "yOocrSU16voD"
      }
    },
    {
      "cell_type": "code",
      "source": [
        "from matplotlib import pyplot as plt\n",
        "plt.plot(validationEpoch_loss)\n",
        "plt.title(\"loss vs epoch\")\n",
        "plt.xlabel(\"epoch\")\n",
        "plt.ylabel(\"loss\")\n",
        "plt.show()"
      ],
      "metadata": {
        "colab": {
          "base_uri": "https://localhost:8080/",
          "height": 472
        },
        "id": "h9zium7cbEZr",
        "outputId": "88e9f534-ef3b-4fd0-89b7-29ce84e8b1a9"
      },
      "execution_count": 58,
      "outputs": [
        {
          "output_type": "display_data",
          "data": {
            "text/plain": [
              "<Figure size 640x480 with 1 Axes>"
            ],
            "image/png": "[encoded data removed]"
          },
          "metadata": {}
        }
      ]
    },
    {
      "cell_type": "markdown",
      "source": [
        "LOSS VS STEP"
      ],
      "metadata": {
        "id": "1QZG3tPO6y2t"
      }
    },
    {
      "cell_type": "code",
      "source": [
        "figure,axis=plt.subplots(2,3)\n",
        "\n",
        "axis[0,0].plot(Steps_final[0])\n",
        "axis[0,0].set_title(\"Epoch 1\")\n",
        "axis[0,1].plot(Steps_final[1])\n",
        "axis[0,1].set_title(\"Epoch 2\")\n",
        "axis[0,2].plot(Steps_final[2])\n",
        "axis[0,2].set_title(\"Epoch 3\")\n",
        "axis[1,0].plot(Steps_final[3])\n",
        "axis[1,0].set_title(\"Epoch 4\")\n",
        "axis[1,1].plot(Steps_final[4])\n",
        "axis[1,1].set_title(\"Epoch 5\")\n",
        "axis[1,2].plot(Steps_final[5])\n",
        "axis[1,2].set_title(\"Epoch 6\")\n",
        "\n",
        "plt.title(\"Loss vs Step\")\n",
        "plt.show()"
      ],
      "metadata": {
        "colab": {
          "base_uri": "https://localhost:8080/",
          "height": 452
        },
        "id": "DML80z7lrkHY",
        "outputId": "fb5f8990-b620-4901-c49b-8464f2a0a8b5"
      },
      "execution_count": 61,
      "outputs": [
        {
          "output_type": "display_data",
          "data": {
            "text/plain": [
              "<Figure size 640x480 with 6 Axes>"
            ],
            "image/png": "[encoded data removed]"
          },
          "metadata": {}
        }
      ]
    },
    {
      "cell_type": "markdown",
      "source": [
        "# **EVALUATION**"
      ],
      "metadata": {
        "id": "fNKetoFZ7MVo"
      }
    },
    {
      "cell_type": "markdown",
      "source": [
        "Loss on training data"
      ],
      "metadata": {
        "id": "hEeHc19EBCBW"
      }
    },
    {
      "cell_type": "code",
      "source": [
        "model.eval()\n",
        "trainEpoch_loss = []\n",
        "\n",
        "for i,batch in enumerate(train_dataloader):\n",
        "  batch = {k: v.to(device) for k, v in batch.items()}\n",
        "  outputs = model(**batch)\n",
        "  loss = outputs.loss\n",
        "  trainEpoch_loss.append(loss.item())\n",
        "\n",
        "train_loss_final=np.array(trainEpoch_loss).mean()\n",
        "print(\"loss for train data->\")\n",
        "print(train_loss_final)"
      ],
      "metadata": {
        "colab": {
          "base_uri": "https://localhost:8080/"
        },
        "id": "UZDWdd0f2uQi",
        "outputId": "3f8fa3dc-773d-4e00-9928-02cade035060"
      },
      "execution_count": 78,
      "outputs": [
        {
          "output_type": "stream",
          "name": "stdout",
          "text": [
            "0.015547359010437503\n"
          ]
        }
      ]
    },
    {
      "cell_type": "markdown",
      "source": [
        "Loss on val data"
      ],
      "metadata": {
        "id": "vAo8ihe5BVYM"
      }
    },
    {
      "cell_type": "code",
      "source": [
        "model.eval()\n",
        "valEpoch_loss = []\n",
        "\n",
        "for i,batch in enumerate(val_dataloader):\n",
        "  batch = {k: v.to(device) for k, v in batch.items()}\n",
        "  outputs = model(**batch)\n",
        "  loss = outputs.loss\n",
        "  valEpoch_loss.append(loss.item())\n",
        "\n",
        "val_loss_final=np.array(valEpoch_loss).mean()\n",
        "print(\"loss for val data->\")\n",
        "print(val_loss_final)"
      ],
      "metadata": {
        "colab": {
          "base_uri": "https://localhost:8080/"
        },
        "id": "rwty61xG27m6",
        "outputId": "3ed5123d-b683-4e20-e646-d85b3d192f5b"
      },
      "execution_count": 80,
      "outputs": [
        {
          "output_type": "stream",
          "name": "stdout",
          "text": [
            "0.3143065404313217\n"
          ]
        }
      ]
    },
    {
      "cell_type": "markdown",
      "source": [
        "Accuracy Recall F1 Precision on train data"
      ],
      "metadata": {
        "id": "wRVicF_ABl_1"
      }
    },
    {
      "cell_type": "code",
      "source": [
        "metric = evaluate.combine([\"accuracy\", \"f1\", \"precision\", \"recall\"])\n",
        "\n",
        "model.eval()\n",
        "for batch in train_dataloader:\n",
        "    batch = {k: v.to(device) for k, v in batch.items()}\n",
        "    with torch.no_grad():\n",
        "        outputs = model(**batch)\n",
        "\n",
        "    logits = outputs.logits\n",
        "    predictions = torch.argmax(logits, dim=-1)\n",
        "\n",
        "    metric.add_batch(predictions=predictions, references=batch[\"labels\"])\n",
        "\n",
        "print(\"Metrices for Train Data\")\n",
        "metric.compute()"
      ],
      "metadata": {
        "colab": {
          "base_uri": "https://localhost:8080/"
        },
        "id": "_exf7dZb32Vp",
        "outputId": "669c6ccc-bcbb-4852-ba08-a869c6f97e3e"
      },
      "execution_count": 72,
      "outputs": [
        {
          "output_type": "execute_result",
          "data": {
            "text/plain": [
              "{'accuracy': 0.997,\n",
              " 'f1': 0.997002997002997,\n",
              " 'precision': 0.9960079840319361,\n",
              " 'recall': 0.998}"
            ]
          },
          "metadata": {},
          "execution_count": 72
        }
      ]
    },
    {
      "cell_type": "markdown",
      "source": [
        "Accuracy Recall F1 Precision on val data"
      ],
      "metadata": {
        "id": "UoGAmeOXBvTB"
      }
    },
    {
      "cell_type": "code",
      "source": [
        "metric = evaluate.combine([\"accuracy\", \"f1\", \"precision\", \"recall\"])\n",
        "\n",
        "model.eval()\n",
        "for batch in val_dataloader:\n",
        "    batch = {k: v.to(device) for k, v in batch.items()}\n",
        "    with torch.no_grad():\n",
        "        outputs = model(**batch)\n",
        "\n",
        "    logits = outputs.logits\n",
        "    predictions = torch.argmax(logits, dim=-1)\n",
        "\n",
        "    metric.add_batch(predictions=predictions, references=batch[\"labels\"])\n",
        "\n",
        "print(\"Metrices for Val Data\")\n",
        "metric.compute()"
      ],
      "metadata": {
        "colab": {
          "base_uri": "https://localhost:8080/"
        },
        "id": "cZh4suAL4VUN",
        "outputId": "16ea15cb-d0a2-4440-fa20-416eb6d37ca9"
      },
      "execution_count": 75,
      "outputs": [
        {
          "output_type": "execute_result",
          "data": {
            "text/plain": [
              "{'accuracy': 0.932,\n",
              " 'f1': 0.931726907630522,\n",
              " 'precision': 0.9354838709677419,\n",
              " 'recall': 0.928}"
            ]
          },
          "metadata": {},
          "execution_count": 75
        }
      ]
    },
    {
      "cell_type": "markdown",
      "source": [
        "Q>What is the metric that you are using for evaluation and why?\n",
        "\n",
        "Ans>I have used four commonly used metrics for evaluating classifier performance:\n",
        "1. Accuracy: The proportion of correct predictions out of the total predictions.\n",
        "2. Precision: The proportion of true positive predictions out of the total positive predictions (precision = true positives / (true positives + false positives)).\n",
        "3. Recall (Sensitivity or True Positive Rate): The proportion of true positive predictions out of the total actual positive instances (recall = true positives / (true positives + false negatives)).\n",
        "4. F1 Score: The harmonic mean of precision and recall, providing a balance between the two metrics (F1 score = 2 * ((precision * recall) / (precision + recall))).\n",
        "\n",
        "These metrics help assess the classifier’s effectiveness in correctly classifying instances of different classes.\n",
        "\n",
        "The reason i chose these metrices are balanced nature of my dataset -> these matrices genrally works well then all the classes have equal represntation in training and val data"
      ],
      "metadata": {
        "id": "d7ExBGy2AAzY"
      }
    },
    {
      "cell_type": "markdown",
      "source": [
        "Q>Is the model properly trained or is the model underfitting/overfitting?\n",
        "\n",
        "Ans> Loss_train_data is quite low than the Loss_val_data\n",
        "Besides this other metrices like accuracy ,recall etc is higher for training data than val data shows some degree of overfitting in on the training data\n",
        "\n",
        "This can be reduced the incresing the size of dataset or by introducing a regularization term in loss"
      ],
      "metadata": {
        "id": "Yo79YxZ7-9lq"
      }
    },
    {
      "cell_type": "markdown",
      "source": [
        "# **FINAL RESULT ON TEST DATA**"
      ],
      "metadata": {
        "id": "mRquB3te49_6"
      }
    },
    {
      "cell_type": "markdown",
      "source": [
        "METRICES ON TEST DATA"
      ],
      "metadata": {
        "id": "EPug4FYJ7DWv"
      }
    },
    {
      "cell_type": "code",
      "source": [
        "metric = evaluate.combine([\"accuracy\", \"f1\", \"precision\", \"recall\"])\n",
        "pred=[]\n",
        "real=[]\n",
        "model.eval()\n",
        "for batch in test_dataloader:\n",
        "    batch = {k: v.to(device) for k, v in batch.items()}\n",
        "    with torch.no_grad():\n",
        "        outputs = model(**batch)\n",
        "\n",
        "    logits = outputs.logits\n",
        "    predictions = torch.argmax(logits, dim=-1)\n",
        "    a=predictions.tolist()\n",
        "    b=batch[\"labels\"].tolist()\n",
        "    for i in a:\n",
        "     pred.append(i)\n",
        "    for i in b:\n",
        "     real.append(i)\n",
        "\n",
        "    metric.add_batch(predictions=predictions, references=batch[\"labels\"])\n",
        "print(\"final result for the test data is ->\")\n",
        "metric.compute()"
      ],
      "metadata": {
        "colab": {
          "base_uri": "https://localhost:8080/"
        },
        "id": "zyiW53qpbKw-",
        "outputId": "64b4bf30-2e62-4424-a3b0-a14913ae4368"
      },
      "execution_count": 64,
      "outputs": [
        {
          "output_type": "execute_result",
          "data": {
            "text/plain": [
              "{'accuracy': 0.926,\n",
              " 'f1': 0.9275929549902151,\n",
              " 'precision': 0.9080459770114943,\n",
              " 'recall': 0.948}"
            ]
          },
          "metadata": {},
          "execution_count": 64
        }
      ]
    },
    {
      "cell_type": "markdown",
      "source": [
        "CONFUSION MATRIX"
      ],
      "metadata": {
        "id": "3wsxTzMi6-ol"
      }
    },
    {
      "cell_type": "code",
      "source": [
        "confusion_matrix = metrics.confusion_matrix(real, pred)\n",
        "\n",
        "cm_display = metrics.ConfusionMatrixDisplay(confusion_matrix = confusion_matrix, display_labels = [False, True])\n",
        "\n",
        "cm_display.plot()\n",
        "plt.show()"
      ],
      "metadata": {
        "colab": {
          "base_uri": "https://localhost:8080/",
          "height": 449
        },
        "id": "6qFW8XpF-IEc",
        "outputId": "b76ee94a-85e5-413b-d054-e59bd2782495"
      },
      "execution_count": 65,
      "outputs": [
        {
          "output_type": "display_data",
          "data": {
            "text/plain": [
              "<Figure size 640x480 with 2 Axes>"
            ],
            "image/png": "[encoded data removed]"
          },
          "metadata": {}
        }
      ]
    },
    {
      "cell_type": "code",
      "source": [
        "torch.save(model.state_dict(), \"/content/drive/MyDrive/Colab Notebooks/task_model.pt\")\n",
        "# model = TheModelClass(*args, **kwargs)\n",
        "# model.load_state_dict(torch.load(PATH))\n",
        "# model.eval()"
      ],
      "metadata": {
        "id": "daB1uNtVF2VD"
      },
      "execution_count": 67,
      "outputs": []
    }
  ]
}